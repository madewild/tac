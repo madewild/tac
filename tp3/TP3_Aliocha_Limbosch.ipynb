{
 "cells": [
  {
   "cell_type": "markdown",
   "id": "0c2e7eb4-e1a3-4f6f-a6eb-f8f8d0049c20",
   "metadata": {},
   "source": [
    "# TP3 : Clustering et word2vec"
   ]
  },
  {
   "cell_type": "markdown",
   "id": "36c0e4d9-61b0-4b99-aabf-bcf2d99cb98b",
   "metadata": {},
   "source": [
    "## 1. Clustering"
   ]
  },
  {
   "cell_type": "markdown",
   "id": "eeb7c029-ee68-4812-853c-4d0481adad49",
   "metadata": {},
   "source": [
    "#### 1.1. Configuration"
   ]
  },
  {
   "cell_type": "code",
   "execution_count": null,
   "id": "17964cc1-b4d7-49bf-b6ce-a984875c798f",
   "metadata": {},
   "outputs": [],
   "source": [
    "DECADE = '1960'"
   ]
  },
  {
   "cell_type": "code",
   "execution_count": null,
   "id": "424507d6-e9eb-402f-900f-e810edfd0037",
   "metadata": {},
   "outputs": [],
   "source": [
    "N_CLUSTERS = 3"
   ]
  },
  {
   "cell_type": "markdown",
   "id": "abcedf67-3915-43fc-92f5-838f2217a5dd",
   "metadata": {},
   "source": [
    "## 2. Word Embeddings à l'aide de Word2Vec"
   ]
  },
  {
   "cell_type": "markdown",
   "id": "496a4f0b-8df0-469a-95e0-daeb33b00dc2",
   "metadata": {},
   "source": [
    "#### 2.1. Configuration"
   ]
  },
  {
   "cell_type": "code",
   "execution_count": null,
   "id": "c0bfad6a-0500-47a6-94de-ed40217dc81d",
   "metadata": {},
   "outputs": [],
   "source": [
    "infile = f\"../data/sents_NEW.txt\" #Pour être sûr d'avoir bien effectué le tp avec le fichier déposé sur l'U.V., je l'ai renommé.\n",
    "sentences = MySentences(infile)"
   ]
  },
  {
   "cell_type": "code",
   "execution_count": null,
   "id": "1c2569db-661b-45a1-91e9-38809bdc06c6",
   "metadata": {},
   "outputs": [],
   "source": [
    "%%time\n",
    "model = Word2Vec(\n",
    "    corpus, \n",
    "    vector_size=32, \n",
    "    window=6, # J'ai décidé d'augmenter légèrement la taille de la fenêtre afin de mieux prendre en compte le \"contexte\" de chaque mot.  \n",
    "    min_count=8, # J'aimerais que soient pris en compte les mots qui apparaissent au moins 8 fois dans le corpus, pour une question de pertinence.\n",
    "    workers=4,\n",
    "    epochs=5\n",
    ")"
   ]
  },
  {
   "cell_type": "markdown",
   "id": "6714bc78-b9ab-4165-b8d9-302404f0623e",
   "metadata": {
    "tags": []
   },
   "source": [
    "### 2.2. Calculer la similarité entre deux termes"
   ]
  },
  {
   "cell_type": "code",
   "execution_count": null,
   "id": "a20a475c-8d69-435b-90cf-7b654f807df0",
   "metadata": {},
   "outputs": [],
   "source": [
    "model.wv.similarity(\"bruxelles\", \"ville\")"
   ]
  },
  {
   "cell_type": "code",
   "execution_count": null,
   "id": "5effd980-ae37-44ed-a838-315e1855b095",
   "metadata": {},
   "outputs": [],
   "source": [
    "#Résultat : 0.3662334"
   ]
  },
  {
   "cell_type": "code",
   "execution_count": null,
   "id": "f2f35281-e6b5-4b1e-9b7b-9b6d93099094",
   "metadata": {},
   "outputs": [],
   "source": [
    "model.wv.similarity(\"ecole\", \"commune\")"
   ]
  },
  {
   "cell_type": "code",
   "execution_count": null,
   "id": "fe5ee758-8cec-49ef-9b97-43f04d417a36",
   "metadata": {},
   "outputs": [],
   "source": [
    "#Résultat : 0.41099364"
   ]
  },
  {
   "cell_type": "code",
   "execution_count": null,
   "id": "ab260574-ab3c-4f09-910d-a3784ed22ba4",
   "metadata": {},
   "outputs": [],
   "source": [
    "model.wv.similarity(\"travaux\", \"entrepreneur\")"
   ]
  },
  {
   "cell_type": "code",
   "execution_count": null,
   "id": "fa7dbd13-0302-4f9f-a33c-0773a9ee6b3b",
   "metadata": {},
   "outputs": [],
   "source": [
    "#Résultat : 0.14582175"
   ]
  },
  {
   "cell_type": "code",
   "execution_count": null,
   "id": "c09f65f5-8baa-48bb-9517-fec7693c38e0",
   "metadata": {},
   "outputs": [],
   "source": [
    "model.wv.similarity(\"travaux\", \"ouvrier\")"
   ]
  },
  {
   "cell_type": "code",
   "execution_count": null,
   "id": "2018289e-8882-4adf-b04f-1eb790d35170",
   "metadata": {},
   "outputs": [],
   "source": [
    "#Résultat : -0.16464552"
   ]
  },
  {
   "cell_type": "code",
   "execution_count": null,
   "id": "aa872938-0a5d-466e-8f30-d231a8a9bf86",
   "metadata": {},
   "outputs": [],
   "source": [
    "model.wv.similarity(\"travaux\", \"chantier\")"
   ]
  },
  {
   "cell_type": "code",
   "execution_count": null,
   "id": "c38591b7-d0a1-4bca-af43-89d0cb5b8f36",
   "metadata": {},
   "outputs": [],
   "source": [
    "#Résultat : 0.05133795"
   ]
  },
  {
   "cell_type": "markdown",
   "id": "06d5b648-698a-4d2a-a427-44e144168934",
   "metadata": {},
   "source": [
    "### 2.3. Chercher les mots les plus proches d'un terme donné"
   ]
  },
  {
   "cell_type": "code",
   "execution_count": null,
   "id": "8b6669af-4eda-4f9e-8c24-ae3c7d1a6b06",
   "metadata": {},
   "outputs": [],
   "source": [
    "model.wv.most_similar(\"ecole\", topn=20)"
   ]
  },
  {
   "cell_type": "code",
   "execution_count": null,
   "id": "3a68ab48-c49e-4a76-9ada-6ecfaa588640",
   "metadata": {},
   "outputs": [],
   "source": [
    "#Résultat :\n",
    "\"\"\" \n",
    "[('erection', 0.7725639939308167),\n",
    " ('usine', 0.7697182893753052),\n",
    " ('etablissement', 0.7527889609336853),\n",
    " ('universite', 0.7507925629615784),\n",
    " ('athenee', 0.7499578595161438),\n",
    " ('academie', 0.7447317838668823),\n",
    " ('hopital_st_.-_jean', 0.7256225347518921),\n",
    " ('hopital', 0.7192087173461914),\n",
    " ('ecole_moyenne', 0.7131534218788147),\n",
    " ('eglise', 0.7089458703994751),\n",
    " ('allee', 0.7046315670013428),\n",
    " ('exposition', 0.6960450410842896),\n",
    " ('organisation', 0.6920965313911438),\n",
    " ('appropriation', 0.684587299823761),\n",
    " ('avenue', 0.6827598810195923),\n",
    " ('exception', 0.6785732507705688),\n",
    " ('achevement', 0.6771519780158997),\n",
    " ('acquisition', 0.6749467253684998),\n",
    " ('expropriation', 0.6729699373245239),\n",
    " ('hospice', 0.6704509258270264)] \n",
    " \"\"\""
   ]
  },
  {
   "cell_type": "code",
   "execution_count": null,
   "id": "547fdf47-755e-48b2-9e96-e8e9a61cba8d",
   "metadata": {},
   "outputs": [],
   "source": [
    "model.wv.most_similar(\"travaux\", topn=20)"
   ]
  },
  {
   "cell_type": "code",
   "execution_count": null,
   "id": "bfddabb4-dfe5-4dc4-878e-b08481b869ff",
   "metadata": {},
   "outputs": [],
   "source": [
    "#Résultat :\n",
    "\"\"\"\n",
    "[('limites', 0.7753661870956421),\n",
    " ('conditions', 0.7669000029563904),\n",
    " ('projets', 0.7640077471733093),\n",
    " ('moyens', 0.7631876468658447),\n",
    " ('vues', 0.7353503704071045),\n",
    " ('monuments', 0.7345126271247864),\n",
    " ('plans', 0.7344695329666138),\n",
    " ('grands_travaux', 0.7333089709281921),\n",
    " ('details', 0.729360044002533),\n",
    " ('points', 0.724613606929779),\n",
    " ('difficultes', 0.7160383462905884),\n",
    " ('alignements', 0.7123311161994934),\n",
    " ('expropriations', 0.7114230394363403),\n",
    " ('changements', 0.7013847827911377),\n",
    " ('constructions', 0.7001308798789978),\n",
    " ('modifications', 0.6938216090202332),\n",
    " ('contribuables', 0.6854864358901978),\n",
    " ('dangers', 0.6803796291351318),\n",
    " ('mesures', 0.6795587539672852),\n",
    " ('casernes', 0.6756004095077515)]\n",
    "\"\"\""
   ]
  },
  {
   "cell_type": "code",
   "execution_count": null,
   "id": "3a7a2f1d-d23d-4995-ab9c-eb70ec4a1d35",
   "metadata": {},
   "outputs": [],
   "source": [
    "model.wv.most_similar(\"eglise\", topn=20)"
   ]
  },
  {
   "cell_type": "code",
   "execution_count": null,
   "id": "57e69ac3-758d-42cf-85fb-29bbf6589e9c",
   "metadata": {},
   "outputs": [],
   "source": [
    "#Résultat :\n",
    "\"\"\"\n",
    "[('impasse', 0.7804701924324036),\n",
    " ('agrandissement', 0.7731493711471558),\n",
    " ('avenue', 0.7702898979187012),\n",
    " ('incorporation', 0.7611865401268005),\n",
    " ('erection', 0.7264569997787476),\n",
    " ('etablissement', 0.723682165145874),\n",
    " ('etang', 0.7223648428916931),\n",
    " ('ixelles', 0.7151734232902527),\n",
    " ('ecole', 0.7089458107948303),\n",
    " ('escalier', 0.7088437080383301),\n",
    " ('eglise_sainte', 0.7004958987236023),\n",
    " ('achevement', 0.696487545967102),\n",
    " ('entree', 0.6836104393005371),\n",
    " ('allee', 0.6796068549156189),\n",
    " ('ancien_bassin', 0.6789212226867676),\n",
    " ('esplanade', 0.6778413653373718),\n",
    " ('entrepot', 0.6773724555969238),\n",
    " ('autorite_locale', 0.6767591238021851),\n",
    " ('annexion', 0.6686565279960632),\n",
    " ('hopital', 0.6676697731018066)]\n",
    "\"\"\""
   ]
  },
  {
   "cell_type": "markdown",
   "id": "f0be740e-f16e-48b2-a5cc-372eea5dd560",
   "metadata": {},
   "source": [
    "### 2.4. Recherches complémentaires en implémentant la valeur de \"5\" aux variables \"window\" et \"min_count\" dans l'algorithme"
   ]
  },
  {
   "cell_type": "code",
   "execution_count": null,
   "id": "3b5d0595-6279-43df-a443-2f4538775835",
   "metadata": {},
   "outputs": [],
   "source": [
    "%%time\n",
    "model = Word2Vec(\n",
    "    corpus, \n",
    "    vector_size=32, \n",
    "    window=5, \n",
    "    min_count=5,\n",
    "    workers=4, \n",
    "    epochs=5\n",
    ")"
   ]
  },
  {
   "cell_type": "code",
   "execution_count": null,
   "id": "407955f5-ee95-48e7-8d9e-071b45004e2b",
   "metadata": {},
   "outputs": [],
   "source": [
    "model.wv.similarity(\"travaux\", \"chantier\")"
   ]
  },
  {
   "cell_type": "code",
   "execution_count": null,
   "id": "e572d843-dbf2-4533-89d8-c8fe374f6e3f",
   "metadata": {},
   "outputs": [],
   "source": [
    "#Résultat : 0.031841185 (versus 0.05133795 avec la configuration précédente)"
   ]
  },
  {
   "cell_type": "code",
   "execution_count": null,
   "id": "76b5b235-bd32-4521-ace3-a9dec89f6323",
   "metadata": {},
   "outputs": [],
   "source": [
    "model.wv.similarity(\"ecole\", \"commune\")"
   ]
  },
  {
   "cell_type": "code",
   "execution_count": null,
   "id": "88419924-82f5-4c70-809a-584765850d06",
   "metadata": {},
   "outputs": [],
   "source": [
    "#Résultat : 0.40205777 (versus 0.41099364 avec la configuration précédente)"
   ]
  },
  {
   "cell_type": "code",
   "execution_count": null,
   "id": "b579183b-0116-41ff-bd83-c08e930fa360",
   "metadata": {},
   "outputs": [],
   "source": []
  },
  {
   "cell_type": "markdown",
   "id": "9d95f3b8-6427-4c27-a117-5881c3fad866",
   "metadata": {},
   "source": [
    "### 2.5. Faire des recherches complexes à travers l'espace vectoriel :"
   ]
  },
  {
   "cell_type": "code",
   "execution_count": null,
   "id": "b4fe8744-ff62-43e5-a619-96eb08d3f384",
   "metadata": {},
   "outputs": [],
   "source": [
    "print(model.wv.most_similar(positive=['ecole', 'universite', 'college', 'travaux'], negative=['restauration']))"
   ]
  },
  {
   "cell_type": "code",
   "execution_count": null,
   "id": "59c69d13-228b-442f-8eef-49a473ade148",
   "metadata": {},
   "outputs": [],
   "source": [
    "# Résultat : \n",
    "\"\"\"\n",
    "[('architecte', 0.7565909028053284), \n",
    "('athenee', 0.7196077704429626), \n",
    "('enseignement', 0.7171147465705872), \n",
    "('academie', 0.7131667733192444), \n",
    "('entrepreneur', 0.7059587836265564), \n",
    "('instruction', 0.6774009466171265), \n",
    "('administration_communale', 0.6758815050125122), \n",
    "('autorite_superieure', 0.672178328037262), \n",
    "('humanite', 0.6657719016075134), \n",
    "('interieur', 0.6634838581085205)]\n",
    "\"\"\""
   ]
  },
  {
   "cell_type": "code",
   "execution_count": null,
   "id": "9efd64a0-c1fb-4dfc-931a-d036a4846b45",
   "metadata": {},
   "outputs": [],
   "source": [
    "print(model.wv.most_similar(positive=['egout', 'eau', 'salubrite', 'distribution'], negative=['travaux']))"
   ]
  },
  {
   "cell_type": "code",
   "execution_count": null,
   "id": "ffa0fcfb-df02-4213-bcce-deb4c8df0459",
   "metadata": {},
   "outputs": [],
   "source": [
    "# Résultat : \n",
    "\"\"\"\n",
    "[('ecoulement', 0.8339706659317017), \n",
    "('habitation', 0.8317899107933044), \n",
    "('usine', 0.8161758184432983), \n",
    "('creation', 0.7905871868133545), \n",
    "('agglomeration', 0.7866260409355164), \n",
    "('approvisionnement', 0.7769612073898315), \n",
    "('alimentation', 0.776436984539032), \n",
    "('etablissement', 0.7723490595817566), \n",
    "('embranchement', 0.767605721950531), \n",
    "('espece', 0.7672276496887207)]\n",
    "\"\"\""
   ]
  },
  {
   "cell_type": "code",
   "execution_count": null,
   "id": "ea664768-5d8a-4d97-bdd7-f0904593efef",
   "metadata": {},
   "outputs": [],
   "source": [
    "print(model.wv.most_similar(positive=['taxe', 'alimentation', 'nourriture'], negative=['agriculture', 'belgique']))"
   ]
  },
  {
   "cell_type": "code",
   "execution_count": null,
   "id": "2b38ba50-eb0c-4742-8179-54bfbe81d3e4",
   "metadata": {},
   "outputs": [],
   "source": [
    "# Résultat : \n",
    "\"\"\"\n",
    "[('valeur', 0.6542356014251709), \n",
    "('deces_presente', 0.6290267109870911), \n",
    "('reduction', 0.61492919921875), \n",
    "('difference_entre', 0.6094015836715698), \n",
    "('base', 0.6020293235778809), \n",
    "('consommation', 0.5885253548622131), \n",
    "('houille', 0.5872054696083069), \n",
    "('diminution', 0.5847838521003723), \n",
    "('difference', 0.5839007496833801), \n",
    "('quantite', 0.5825128555297852)]\n",
    "\n",
    "\"\"\""
   ]
  },
  {
   "cell_type": "code",
   "execution_count": null,
   "id": "153ecf14-97aa-4ad0-893a-a7bd4302c99b",
   "metadata": {},
   "outputs": [],
   "source": []
  }
 ],
 "metadata": {
  "kernelspec": {
   "display_name": "Python 3 (ipykernel)",
   "language": "python",
   "name": "python3"
  },
  "language_info": {
   "codemirror_mode": {
    "name": "ipython",
    "version": 3
   },
   "file_extension": ".py",
   "mimetype": "text/x-python",
   "name": "python",
   "nbconvert_exporter": "python",
   "pygments_lexer": "ipython3",
   "version": "3.9.7"
  }
 },
 "nbformat": 4,
 "nbformat_minor": 5
}
