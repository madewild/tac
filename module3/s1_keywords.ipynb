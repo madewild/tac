{
 "metadata": {
  "language_info": {
   "codemirror_mode": {
    "name": "ipython",
    "version": 3
   },
   "file_extension": ".py",
   "mimetype": "text/x-python",
   "name": "python",
   "nbconvert_exporter": "python",
   "pygments_lexer": "ipython3",
   "version": "3.7.7-final"
  },
  "orig_nbformat": 2,
  "kernelspec": {
   "name": "Python 3.7.7 64-bit ('venv': venv)",
   "display_name": "Python 3.7.7 64-bit ('venv': venv)",
   "metadata": {
    "interpreter": {
     "hash": "ed2973e18a45e46195aea83f71ebc09fe8d3266afb265a31fa421a956b7d8fb0"
    }
   }
  }
 },
 "nbformat": 4,
 "nbformat_minor": 2,
 "cells": [
  {
   "source": [
    "# Testing keyword extraction with YAKE"
   ],
   "cell_type": "markdown",
   "metadata": {}
  },
  {
   "cell_type": "code",
   "execution_count": 1,
   "metadata": {},
   "outputs": [],
   "source": [
    "import os\n",
    "import yake"
   ]
  },
  {
   "source": [
    "## Extraire les mots clés des documents avec YAKE"
   ],
   "cell_type": "markdown",
   "metadata": {}
  },
  {
   "cell_type": "code",
   "execution_count": 5,
   "metadata": {
    "tags": []
   },
   "outputs": [
    {
     "output_type": "stream",
     "name": "stdout",
     "text": "Bxl_1847_Tome_I1_Part_1.txt mentions these keywords: marchés couverts, d'un marché couvert, d'un marché, d'un marché dans, nouveau marché, l'établissement d'un marché, marché dans...\nBxl_1847_Tome_I1_Part_2.txt mentions these keywords: belgique communale, l'administration communale...\nBxl_1847_Tome_I1_Part_3.txt mentions these keywords: rue royale, rue royale neuve, rue royale jusqu'à, rue royale serait, rue royale extérieure, nouvelle rue royale...\nBxl_1847_Tome_I1_Part_4.txt mentions these keywords: rue royale, conseil provincial, rue duquesnoy, ville de bruxelles...\nBxl_1847_Tome_I1_Part_5.txt mentions these keywords: domicile de secours, dépôt de mendicité...\nBxl_1848_Tome_I1_Part_1.txt mentions these keywords: conseils de prud'hommes, d'un conseil, l'institution d'un conseil, l'établissement d'un conseil, l'organisation d'un conseil, conseil d'un plan...\nBxl_1848_Tome_I1_Part_2.txt mentions these keywords: société civile...\nBxl_1848_Tome_I1_Part_3.txt mentions these keywords: hardy de beaulieu...\nBxl_1849_Tome_I1_Part_1.txt mentions these keywords: section des finances...\nBxl_1849_Tome_I1_Part_2.txt mentions these keywords: voie publique, section des travaux, ville de bruxelles...\nBxl_1849_Tome_I1_Part_3.txt mentions these keywords: conseil central, travaux publics, l'administration communale, conseil de salubrité...\nBxl_1849_Tome_I1_Part_4.txt mentions these keywords: section des finances, section des travaux, travaux publics, rue royale...\nBxl_1849_Tome_I1_Part_5.txt mentions these keywords: collège des bourgmestre, travaux publics, l'hôtel de ville, rue royale, bourgmestre et échevins...\nBxl_1849_Tome_II1_Part_1.txt mentions these keywords: section des travaux, section de police, l'ancien marché, travaux publics...\nBxl_1849_Tome_II1_Part_2.txt mentions these keywords: ...\nBxl_1849_Tome_II1_Part_3.txt mentions these keywords: dépenses ordinaires, dépenses extraordinaires...\nBxl_1849_Tome_II1_Part_4.txt mentions these keywords: collège adoptés...\nBxl_1849_Tome_II1_Part_5.txt mentions these keywords: collège des bourgmestre, bourgmestre et échevins...\nBxl_1849_Tome_II1_Part_6.txt mentions these keywords: collège des bourgmestre, bourgmestre et échevins...\nBxl_1849_Tome_II1_Part_7.txt mentions these keywords: bourgmestre relative, approbation d'une vente, approbation d'une...\nBxl_1850_Tome_I1_Part_1.txt mentions these keywords: voitures de place...\nBxl_1850_Tome_I1_Part_2.txt mentions these keywords: collège des bourgmestre, bourgmestre et échevins, ville de bruxelles...\nBxl_1850_Tome_I1_Part_3.txt mentions these keywords: enfants trouvés, service courant, conseil d'une lettre, boni boni total, boni total, conseil général d'administration...\nBxl_1850_Tome_I1_Part_4.txt mentions these keywords: enfants trouvés, enfants abandonnés, députation permanente, ville de bruxelles...\nBxl_1850_Tome_II1_Part_1.txt mentions these keywords: recettes recettes recettes, construction d'un pont, travaux publics, construction d'un, section des finances...\nBxl_1850_Tome_II1_Part_2.txt mentions these keywords: collège des bourgmestre, compte moral...\nBxl_1850_Tome_II1_Part_3.txt mentions these keywords: maison rue, voie publique, petite rue...\nBxl_1850_Tome_II1_Part_4.txt mentions these keywords: enfants trouvés, section des finances...\n"
    }
   ],
   "source": [
    "ignored = set([\"conseil communal\", \"conseil général\"])\n",
    "\n",
    "kw_extractor = yake.KeywordExtractor(lan=\"fr\", top=20)\n",
    "data_path = \"../module1/data/txt/\"\n",
    "files = os.listdir(data_path)\n",
    "for f in sorted(files):\n",
    "    if f.startswith(\"Bxl_\"):\n",
    "        text = open(f'{data_path}/{f}', encoding='latin-1').read()\n",
    "        keywords = kw_extractor.extract_keywords(text)\n",
    "        kept = []\n",
    "        for score, kw in keywords:\n",
    "            words = kw.split()\n",
    "            if len(words) > 1 and kw not in ignored:\n",
    "                kept.append(kw)\n",
    "        print(f\"{f} mentions these keywords: {', '.join(kept)}...\")"
   ]
  },
  {
   "cell_type": "code",
   "execution_count": null,
   "metadata": {},
   "outputs": [],
   "source": []
  }
 ]
}