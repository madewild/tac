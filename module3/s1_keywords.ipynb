{
 "cells": [
  {
   "cell_type": "markdown",
   "metadata": {},
   "source": [
    "# Extraction de Keywords"
   ]
  },
  {
   "cell_type": "markdown",
   "metadata": {},
   "source": [
    "## Imports"
   ]
  },
  {
   "cell_type": "code",
   "execution_count": 13,
   "metadata": {},
   "outputs": [],
   "source": [
    "import os\n",
    "import yake"
   ]
  },
  {
   "cell_type": "markdown",
   "metadata": {},
   "source": [
    "## Extraire les mots clés d'un document avec Yake"
   ]
  },
  {
   "cell_type": "markdown",
   "metadata": {},
   "source": [
    "https://github.com/LIAAD/yake"
   ]
  },
  {
   "cell_type": "code",
   "execution_count": 17,
   "metadata": {
    "tags": []
   },
   "outputs": [
    {
     "data": {
      "text/plain": [
       "{'conseil communal', 'conseil général', 'franc'}"
      ]
     },
     "execution_count": 17,
     "metadata": {},
     "output_type": "execute_result"
    }
   ],
   "source": [
    "# Création d'une liste de mots à ignorer\n",
    "ignored = set([\"conseil communal\",\"franc\", \"conseil général\"])\n",
    "ignored"
   ]
  },
  {
   "cell_type": "code",
   "execution_count": 18,
   "metadata": {},
   "outputs": [
    {
     "data": {
      "text/plain": [
       "<yake.yake.KeywordExtractor at 0x7fafe6d6c1f0>"
      ]
     },
     "execution_count": 18,
     "metadata": {},
     "output_type": "execute_result"
    }
   ],
   "source": [
    "# Instantier l'extracteur de mots clés\n",
    "kw_extractor = yake.KeywordExtractor(lan=\"fr\", top=50)\n",
    "kw_extractor"
   ]
  },
  {
   "cell_type": "code",
   "execution_count": null,
   "metadata": {},
   "outputs": [
    {
     "ename": "NameError",
     "evalue": "name 'os' is not defined",
     "output_type": "error",
     "traceback": [
      "\u001b[0;31m---------------------------------------------------------------------------\u001b[0m",
      "\u001b[0;31mNameError\u001b[0m                                 Traceback (most recent call last)",
      "\u001b[0;32m/tmp/ipykernel_18/412957772.py\u001b[0m in \u001b[0;36m<module>\u001b[0;34m\u001b[0m\n\u001b[1;32m      2\u001b[0m \u001b[0mdata_path\u001b[0m \u001b[0;34m=\u001b[0m \u001b[0;34m\"../data/txt/Bxl_1950_Tome_I_Part_1.txt\"\u001b[0m\u001b[0;34m,\u001b[0m\u001b[0;34m\u001b[0m\u001b[0;34m\u001b[0m\u001b[0m\n\u001b[1;32m      3\u001b[0m \u001b[0;34m\"../data/txt/Bxl_1950_Tome_I_Part_2.txt\"\u001b[0m\u001b[0;34m\u001b[0m\u001b[0;34m\u001b[0m\u001b[0m\n\u001b[0;32m----> 4\u001b[0;31m \u001b[0mfiles\u001b[0m \u001b[0;34m=\u001b[0m \u001b[0mos\u001b[0m\u001b[0;34m.\u001b[0m\u001b[0mlistdir\u001b[0m\u001b[0;34m(\u001b[0m\u001b[0mdata_path\u001b[0m\u001b[0;34m)\u001b[0m\u001b[0;34m\u001b[0m\u001b[0;34m\u001b[0m\u001b[0m\n\u001b[0m",
      "\u001b[0;31mNameError\u001b[0m: name 'os' is not defined"
     ]
    }
   ],
   "source": [
    "# Lister les Fichiers\n",
    "data_path = \"../data/txt/\"\n",
    "files = os.listdir(data_path)"
   ]
  },
  {
   "cell_type": "code",
   "execution_count": 20,
   "metadata": {},
   "outputs": [
    {
     "data": {
      "text/plain": [
       "2826"
      ]
     },
     "execution_count": 20,
     "metadata": {},
     "output_type": "execute_result"
    }
   ],
   "source": [
    "# Imprimer le nombre de fichiers identifiés\n",
    "len(files)"
   ]
  },
  {
   "cell_type": "code",
   "execution_count": 21,
   "metadata": {},
   "outputs": [
    {
     "data": {
      "text/plain": [
       "['Bxl_1847_Tome_I1_Part_1.txt',\n",
       " 'Bxl_1847_Tome_I1_Part_2.txt',\n",
       " 'Bxl_1847_Tome_I1_Part_3.txt',\n",
       " 'Bxl_1847_Tome_I1_Part_4.txt',\n",
       " 'Bxl_1847_Tome_I1_Part_5.txt',\n",
       " 'Bxl_1848_Tome_I1_Part_1.txt',\n",
       " 'Bxl_1848_Tome_I1_Part_2.txt',\n",
       " 'Bxl_1848_Tome_I1_Part_3.txt',\n",
       " 'Bxl_1849_Tome_I1_Part_1.txt',\n",
       " 'Bxl_1849_Tome_I1_Part_2.txt',\n",
       " 'Bxl_1849_Tome_I1_Part_3.txt',\n",
       " 'Bxl_1849_Tome_I1_Part_4.txt',\n",
       " 'Bxl_1849_Tome_I1_Part_5.txt',\n",
       " 'Bxl_1849_Tome_II1_Part_1.txt',\n",
       " 'Bxl_1849_Tome_II1_Part_2.txt',\n",
       " 'Bxl_1849_Tome_II1_Part_3.txt',\n",
       " 'Bxl_1849_Tome_II1_Part_4.txt',\n",
       " 'Bxl_1849_Tome_II1_Part_5.txt',\n",
       " 'Bxl_1849_Tome_II1_Part_6.txt',\n",
       " 'Bxl_1849_Tome_II1_Part_7.txt']"
      ]
     },
     "execution_count": 21,
     "metadata": {},
     "output_type": "execute_result"
    }
   ],
   "source": [
    "# Les dix premiers fichiers\n",
    "files[:20]"
   ]
  },
  {
   "cell_type": "code",
   "execution_count": 27,
   "metadata": {},
   "outputs": [
    {
     "data": {
      "text/plain": [
       "25"
      ]
     },
     "execution_count": 27,
     "metadata": {},
     "output_type": "execute_result"
    }
   ],
   "source": [
    "# Enlever les fichiers qui ne commencent pas par Bxl_\n",
    "bxl_files = [f for f in files if f.startswith('Bxl_1950')]\n",
    "len(bxl_files)"
   ]
  },
  {
   "cell_type": "code",
   "execution_count": 28,
   "metadata": {},
   "outputs": [
    {
     "data": {
      "text/plain": [
       "'Bxl_1950_Tome_III_Part_1.txt'"
      ]
     },
     "execution_count": 28,
     "metadata": {},
     "output_type": "execute_result"
    }
   ],
   "source": [
    "# Choisir un fichier\n",
    "this_file = bxl_files[0]\n",
    "this_file"
   ]
  },
  {
   "cell_type": "code",
   "execution_count": 29,
   "metadata": {},
   "outputs": [
    {
     "data": {
      "text/plain": [
       "'C O M P T E R E N D U D E L A SÉANCE D U 1 6 OCTOBRE 1 9 5 0 .\\n\\nVILLE\\n\\nDE BRUXELLES\\n\\nBULLETIN COMMUNAL\\nAnnée 1950\\nCONSEIL\\nSéance\\n\\nCOMMUNAL\\n\\ndu 16 octobre\\n\\n1950.\\n\\nP r é s i d e n c e de M . J . V A N D E M E U L E B R O E C K ,\\nBourgmestre.\\n\\nPAGES\\n\\nSOMMAIRE\\n1.\\n\\nCommunications\\n\\n2.\\n\\nD é c è s de M . F r a n ç o i s\\ncommunal\\n\\n3.\\n4.\\n\\n,\\nDe Ceuster, ancien\\n\\n904\\n\\nconseiller\\n905\\n\\nR è g l e m e n t de police sur le colportage et le commerce ambulant. — Nouveau texte\\n. . . Adoption.\\n\\n90(3\\n\\nE x e r c i c e '"
      ]
     },
     "execution_count": 29,
     "metadata": {},
     "output_type": "execute_result"
    }
   ],
   "source": [
    "# Récupérer le texte du fichier\n",
    "text = open(os.path.join(data_path, this_file), 'r').read()\n",
    "text[:500]"
   ]
  },
  {
   "cell_type": "code",
   "execution_count": 30,
   "metadata": {},
   "outputs": [],
   "source": [
    "# Extraire les mots clés de ce texte\n",
    "keywords = kw_extractor.extract_keywords(text)"
   ]
  },
  {
   "cell_type": "code",
   "execution_count": 31,
   "metadata": {},
   "outputs": [
    {
     "data": {
      "text/plain": [
       "[('texte texte texte', 0.000504392935336591),\n",
       " ('Van', 0.0005270598919883398),\n",
       " ('het collège van', 0.000557810447653374),\n",
       " ('Bourgmestre', 0.0006428253784959444),\n",
       " ('van het', 0.0007652761189925803),\n",
       " ('HET', 0.0009359153736400523),\n",
       " ('van het grondgebied', 0.001227919626480557),\n",
       " ('membres prennent part', 0.0013559558147752762),\n",
       " ('Dispy', 0.0015334889065597576),\n",
       " ('collège van Burgemeester', 0.001632811658395916),\n",
       " ('Taxe', 0.0016470718452995946),\n",
       " ('texte', 0.0017311878580561991),\n",
       " ('gedeelte van het', 0.001857850789391405),\n",
       " ('Collège', 0.0019701485063392294),\n",
       " ('OCTOBRE', 0.0019748393057854295),\n",
       " ('membres', 0.002073299546480895),\n",
       " ('het rondventen van', 0.002445366283940471),\n",
       " ('Brunfaut', 0.002488730657153045),\n",
       " (\"Commission d'Assistance publique\", 0.002862728381876837),\n",
       " ('Van Leynseele', 0.002915209801974816),\n",
       " ('texte texte', 0.0029380508422672024),\n",
       " ('vote', 0.0029728644894187997),\n",
       " ('Penaranda de Franchimont', 0.0031842794763504803),\n",
       " ('Monsieur le Bourgmestre', 0.0032184009471181397),\n",
       " ('membres prennent', 0.003435887354822467),\n",
       " ('het uitoefenen van', 0.003476743696701461),\n",
       " ('Xavier Carton', 0.003551414669598745),\n",
       " ('Taxes', 0.003898070033875707),\n",
       " ('collège van', 0.003972933303647841),\n",
       " ('door het Collège', 0.004039244197376041),\n",
       " ('francs', 0.0045410050538752375),\n",
       " ('VILLE', 0.004617219366158887),\n",
       " ('het grondgebied der', 0.004732225089365433),\n",
       " ('octobre TEXTE', 0.004807149464625543),\n",
       " ('het collège', 0.0051946686957675845),\n",
       " ('toelating van het', 0.005397662913891034),\n",
       " ('part au vote', 0.005422727269585088),\n",
       " ('Thonet', 0.005554335026874037),\n",
       " ('Conseil communal', 0.0056710732276361924),\n",
       " ('publique', 0.005772974400934813),\n",
       " ('prennent part', 0.005979410746432951),\n",
       " ('Rons', 0.006029507836344472),\n",
       " ('hof van het', 0.006101928540736766),\n",
       " ('rue', 0.006128347962639852),\n",
       " ('CONSEIL', 0.00617416748361806),\n",
       " ('van het provinciaal', 0.006248756703574186),\n",
       " ('BRUXELLES BULLETIN COMMUNAL', 0.00638193869392992),\n",
       " (\"c'est\", 0.0065464524003507355),\n",
       " ('BRUXELLES', 0.006673308646680082),\n",
       " ('van hun', 0.006695832459165794)]"
      ]
     },
     "execution_count": 31,
     "metadata": {},
     "output_type": "execute_result"
    }
   ],
   "source": [
    "keywords"
   ]
  },
  {
   "cell_type": "code",
   "execution_count": 32,
   "metadata": {},
   "outputs": [
    {
     "data": {
      "text/plain": [
       "['van het',\n",
       " 'Van Leynseele',\n",
       " 'texte texte',\n",
       " 'membres prennent',\n",
       " 'Xavier Carton',\n",
       " 'collège van',\n",
       " 'octobre TEXTE',\n",
       " 'het collège',\n",
       " 'prennent part',\n",
       " 'van hun']"
      ]
     },
     "execution_count": 32,
     "metadata": {},
     "output_type": "execute_result"
    }
   ],
   "source": [
    "# Ne garder que les bigrammes\n",
    "kept = []\n",
    "for kw, score in keywords:\n",
    "    words = kw.split()\n",
    "    if len(words) == 2 and kw.lower() not in ignored:\n",
    "        kept.append(kw)\n",
    "kept"
   ]
  },
  {
   "cell_type": "markdown",
   "metadata": {},
   "source": [
    "## Faire la même opération sur tous les documents"
   ]
  },
  {
   "cell_type": "code",
   "execution_count": 33,
   "metadata": {},
   "outputs": [
    {
     "name": "stdout",
     "output_type": "stream",
     "text": [
      "Bxl_1950_Tome_III_Part_1.txt mentions these keywords: van het, Van Leynseele, texte texte, membres prennent, Xavier Carton, collège van, octobre TEXTE, het collège, prennent part, van hun...\n",
      "Bxl_1950_Tome_III_Part_2.txt mentions these keywords: Receveur communal, paiement dans, cirque Bouglione, Députation permanente, loi communale, d'une taxe, taxe annuelle, taxe forfaitaire, taxe communale, voies publiques, payable dans...\n",
      "Bxl_1950_Tome_III_Part_3.txt mentions these keywords: Van Leynseele, Commission d'Assistance, d'Assistance publique, Van den, den Heuvel, Crédit Communal, l'Echevin Cooremans, taxe d'ouverture...\n",
      "Bxl_1950_Tome_III_Part_4.txt mentions these keywords: Commission d'Assistance, d'Assistance publique, grandes villes, Fonds communal, BRUXELLES BULLETIN, d'une dépense, Pouvoir compétent, publique sollicite, Conseil d'administration, avis favorable...\n",
      "Bxl_1950_Tome_III_Part_5.txt mentions these keywords: l'Echevin Catteau, Van Leynseele, l'Echevin Verheven, Commission d'Assistance, National flamand...\n",
      "Bxl_1950_Tome_III_Part_6.txt mentions these keywords: l'Echevin Verheven, conseiller communal, professeur Nomination, voie publique, Van Leynseele...\n",
      "Bxl_1950_Tome_III_Part_7.txt mentions these keywords: l'Ecole Industrielle, professeur Nomination, Conseiller Communal, écoles primaires, l'Ecole normale, Mécanique Nomination, Baron Lambert...\n",
      "Bxl_1950_Tome_II_Part_1.txt mentions these keywords: Commission d'Assistance, Avis favorable, d'Assistance publique, vente publique, BUDGET EXTRAORDINAIRE, Conseil d'Administration, publique sollicite, Bruxelles Idem...\n",
      "Bxl_1950_Tome_II_Part_10.txt mentions these keywords: Service social, Service intercommunal, Ecoles professionnelles, Service médical, Ecoles primaires, Ecoles d'adultes...\n",
      "Bxl_1950_Tome_II_Part_2.txt mentions these keywords: Xavier Carton, l'Echevin Catteau, avis favorable, Commission d'Assistance, l'Instruction publique, d'Assistance publique...\n"
     ]
    }
   ],
   "source": [
    "for f in sorted(bxl_files)[:10]:\n",
    "    text = open(os.path.join(data_path, f), 'r').read()\n",
    "    keywords = kw_extractor.extract_keywords(text)\n",
    "    kept = []\n",
    "    for kw, score in keywords:\n",
    "        words = kw.split()\n",
    "        if len(words) == 2 and kw.lower() not in ignored:\n",
    "            kept.append(kw)\n",
    "    print(f\"{f} mentions these keywords: {', '.join(kept)}...\")"
   ]
  },
  {
   "cell_type": "code",
   "execution_count": null,
   "metadata": {},
   "outputs": [],
   "source": []
  }
 ],
 "metadata": {
  "kernelspec": {
   "display_name": "Python 3 (ipykernel)",
   "language": "python",
   "name": "python3"
  },
  "language_info": {
   "codemirror_mode": {
    "name": "ipython",
    "version": 3
   },
   "file_extension": ".py",
   "mimetype": "text/x-python",
   "name": "python",
   "nbconvert_exporter": "python",
   "pygments_lexer": "ipython3",
   "version": "3.9.7"
  }
 },
 "nbformat": 4,
 "nbformat_minor": 4
}
