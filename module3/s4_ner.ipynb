{
 "metadata": {
  "language_info": {
   "codemirror_mode": {
    "name": "ipython",
    "version": 3
   },
   "file_extension": ".py",
   "mimetype": "text/x-python",
   "name": "python",
   "nbconvert_exporter": "python",
   "pygments_lexer": "ipython3",
   "version": "3.7.7-final"
  },
  "orig_nbformat": 2,
  "kernelspec": {
   "name": "Python 3.7.7 64-bit ('venv': venv)",
   "display_name": "Python 3.7.7 64-bit ('venv': venv)",
   "metadata": {
    "interpreter": {
     "hash": "ed2973e18a45e46195aea83f71ebc09fe8d3266afb265a31fa421a956b7d8fb0"
    }
   }
  }
 },
 "nbformat": 4,
 "nbformat_minor": 2,
 "cells": [
  {
   "source": [
    "# Named-entity recognition with SpaCy"
   ],
   "cell_type": "markdown",
   "metadata": {}
  },
  {
   "cell_type": "code",
   "execution_count": 1,
   "metadata": {},
   "outputs": [],
   "source": [
    "from collections import defaultdict\n",
    "import sys\n",
    "\n",
    "import spacy\n",
    "from spacy.lang.fr.examples import sentences"
   ]
  },
  {
   "source": [
    "Pour installer les modèles Spacy en français : `python -m spacy download fr_core_news_sm`"
   ],
   "cell_type": "markdown",
   "metadata": {
    "tags": []
   }
  },
  {
   "cell_type": "code",
   "execution_count": 4,
   "metadata": {},
   "outputs": [],
   "source": [
    "nlp = spacy.load('fr_core_news_sm')"
   ]
  },
  {
   "source": [
    "## Fonctions"
   ],
   "cell_type": "markdown",
   "metadata": {}
  },
  {
   "cell_type": "code",
   "execution_count": 7,
   "metadata": {},
   "outputs": [],
   "source": [
    "def test():\n",
    "    \"\"\"Basic test on sample sentences\"\"\"\n",
    "    for sent in sentences:\n",
    "        doc = nlp(sent)\n",
    "        entities = []\n",
    "        for ent in doc.ents:\n",
    "            entities.append(f\"{ent.text} ({ent.label_})\")\n",
    "        if entities:\n",
    "            print(f\"'{doc.text}' contains the following entities: {', '.join(entities)}\")\n",
    "        else:\n",
    "            print(f\"'{doc.text}' contains no entities\")"
   ]
  },
  {
   "cell_type": "code",
   "execution_count": 18,
   "metadata": {},
   "outputs": [],
   "source": [
    "def search(n=1000000):\n",
    "    text = open(\"../module1/data/all.txt\", encoding='latin-1').read()[:n]\n",
    "    doc = nlp(text)\n",
    "    people = defaultdict(int)\n",
    "    for ent in doc.ents:\n",
    "        if ent.label_ == \"PER\" and len(ent.text) > 3:\n",
    "            people[ent.text] += 1\n",
    "    sorted_people = sorted(people.items(), key=lambda kv: kv[1], reverse=True)\n",
    "    for person, freq in sorted_people[:10]:\n",
    "        print(f\"{person} appears {freq} times in the corpus\")"
   ]
  },
  {
   "source": [
    "## NER sur des données de test"
   ],
   "cell_type": "markdown",
   "metadata": {}
  },
  {
   "cell_type": "code",
   "execution_count": 9,
   "metadata": {
    "tags": []
   },
   "outputs": [
    {
     "output_type": "stream",
     "name": "stdout",
     "text": "'Apple cherche à acheter une start-up anglaise pour 1 milliard de dollars' contains the following entities: Apple (ORG)\n'Les voitures autonomes déplacent la responsabilité de l'assurance vers les constructeurs' contains no entities\n'San Francisco envisage d'interdire les robots coursiers sur les trottoirs' contains the following entities: San Francisco (LOC)\n'Londres est une grande ville du Royaume-Uni' contains the following entities: Londres (LOC), Royaume-Uni (LOC)\n'L’Italie choisit ArcelorMittal pour reprendre la plus grande aciérie d’Europe' contains the following entities: ArcelorMittal (MISC), Europe (LOC)\n'Apple lance HomePod parce qu'il se sent menacé par l'Echo d'Amazon' contains the following entities: Apple (ORG), HomePod (MISC), Echo (MISC)\n'La France ne devrait pas manquer d'électricité cet été, même en cas de canicule' contains the following entities: La France (LOC)\n'Nouvelles attaques de Trump contre le maire de Londres' contains the following entities: Trump (LOC), Londres (LOC)\n'Où es-tu ?' contains no entities\n'Qui est le président de la France ?' contains the following entities: la France (LOC)\n'Où est la capitale des États-Unis ?' contains the following entities: États-Unis (LOC)\n'Quand est né Barack Obama ?' contains the following entities: Barack Obama (PER)\n"
    }
   ],
   "source": [
    "test()"
   ]
  },
  {
   "source": [
    "## NER sur le corpus des bulletins communaux"
   ],
   "cell_type": "markdown",
   "metadata": {}
  },
  {
   "cell_type": "code",
   "execution_count": 19,
   "metadata": {
    "tags": []
   },
   "outputs": [
    {
     "output_type": "stream",
     "name": "stdout",
     "text": "M. Bortier appears 2 times in the corpus\nH. B appears 1 times in the corpus\nDiscussion appears 1 times in the corpus\nAdolphe Bartels appears 1 times in the corpus\nDépôt appears 1 times in the corpus\nHospices appears 1 times in the corpus\nM. Partoes appears 1 times in the corpus\nÉ V A L U A T I O N DES T appears 1 times in the corpus\nTotal Solde appears 1 times in the corpus\nBortier appears 1 times in the corpus\n"
    }
   ],
   "source": [
    "search(n=10000)"
   ]
  },
  {
   "cell_type": "code",
   "execution_count": null,
   "metadata": {},
   "outputs": [],
   "source": []
  }
 ]
}