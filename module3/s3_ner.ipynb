{
 "cells": [
  {
   "cell_type": "markdown",
   "metadata": {},
   "source": [
    "# Reconnaissance d'entités nommées avec SpaCy"
   ]
  },
  {
   "cell_type": "markdown",
   "metadata": {},
   "source": [
    "La documentation est accessible ici: https://spacy.io/api"
   ]
  },
  {
   "cell_type": "markdown",
   "metadata": {},
   "source": [
    "## Imports"
   ]
  },
  {
   "cell_type": "code",
   "execution_count": 1,
   "metadata": {},
   "outputs": [],
   "source": [
    "from collections import defaultdict\n",
    "import sys\n",
    "import spacy\n",
    "from spacy.lang.fr.examples import sentences"
   ]
  },
  {
   "cell_type": "code",
   "execution_count": 2,
   "metadata": {},
   "outputs": [],
   "source": [
    "nlp = spacy.load('fr_core_news_md')"
   ]
  },
  {
   "cell_type": "markdown",
   "metadata": {},
   "source": [
    "## Exemple sur un corpus de test fourni par SpaCy"
   ]
  },
  {
   "cell_type": "code",
   "execution_count": 3,
   "metadata": {},
   "outputs": [
    {
     "data": {
      "text/plain": [
       "['Apple cherche à acheter une start-up anglaise pour 1 milliard de dollars',\n",
       " \"Les voitures autonomes déplacent la responsabilité de l'assurance vers les constructeurs\",\n",
       " \"San Francisco envisage d'interdire les robots coursiers sur les trottoirs\",\n",
       " 'Londres est une grande ville du Royaume-Uni',\n",
       " 'L’Italie choisit ArcelorMittal pour reprendre la plus grande aciérie d’Europe',\n",
       " \"Apple lance HomePod parce qu'il se sent menacé par l'Echo d'Amazon\",\n",
       " \"La France ne devrait pas manquer d'électricité cet été, même en cas de canicule\",\n",
       " 'Nouvelles attaques de Trump contre le maire de Londres',\n",
       " 'Où es-tu ?',\n",
       " 'Qui est le président de la France ?',\n",
       " 'Où est la capitale des États-Unis ?',\n",
       " 'Quand est né Barack Obama ?']"
      ]
     },
     "execution_count": 3,
     "metadata": {},
     "output_type": "execute_result"
    }
   ],
   "source": [
    "# Imprimer le corpus de Spacy\n",
    "sentences"
   ]
  },
  {
   "cell_type": "code",
   "execution_count": 4,
   "metadata": {},
   "outputs": [
    {
     "data": {
      "text/plain": [
       "'Apple cherche à acheter une start-up anglaise pour 1 milliard de dollars'"
      ]
     },
     "execution_count": 4,
     "metadata": {},
     "output_type": "execute_result"
    }
   ],
   "source": [
    "# Isoler la première phrase\n",
    "sent = sentences[0]\n",
    "sent"
   ]
  },
  {
   "cell_type": "code",
   "execution_count": 5,
   "metadata": {},
   "outputs": [],
   "source": [
    "# Traiter la phrase avec Spacy\n",
    "doc = nlp(sent)"
   ]
  },
  {
   "cell_type": "code",
   "execution_count": 6,
   "metadata": {},
   "outputs": [
    {
     "data": {
      "text/plain": [
       "spacy.tokens.doc.Doc"
      ]
     },
     "execution_count": 6,
     "metadata": {},
     "output_type": "execute_result"
    }
   ],
   "source": [
    "type(doc)"
   ]
  },
  {
   "cell_type": "code",
   "execution_count": 7,
   "metadata": {},
   "outputs": [
    {
     "data": {
      "text/plain": [
       "'Apple cherche à acheter une start-up anglaise pour 1 milliard de dollars'"
      ]
     },
     "execution_count": 7,
     "metadata": {},
     "output_type": "execute_result"
    }
   ],
   "source": [
    "doc.text"
   ]
  },
  {
   "cell_type": "code",
   "execution_count": 8,
   "metadata": {},
   "outputs": [
    {
     "data": {
      "text/plain": [
       "{'text': 'Apple cherche à acheter une start-up anglaise pour 1 milliard de dollars',\n",
       " 'ents': [{'start': 0, 'end': 5, 'label': 'ORG'}],\n",
       " 'sents': [{'start': 0, 'end': 72}],\n",
       " 'tokens': [{'id': 0,\n",
       "   'start': 0,\n",
       "   'end': 5,\n",
       "   'tag': 'PROPN',\n",
       "   'pos': 'PROPN',\n",
       "   'morph': '',\n",
       "   'lemma': 'Apple',\n",
       "   'dep': 'nsubj',\n",
       "   'head': 1},\n",
       "  {'id': 1,\n",
       "   'start': 6,\n",
       "   'end': 13,\n",
       "   'tag': 'VERB',\n",
       "   'pos': 'VERB',\n",
       "   'morph': 'Mood=Ind|Number=Sing|Person=3|Tense=Pres|VerbForm=Fin',\n",
       "   'lemma': 'cherche',\n",
       "   'dep': 'ROOT',\n",
       "   'head': 1},\n",
       "  {'id': 2,\n",
       "   'start': 14,\n",
       "   'end': 15,\n",
       "   'tag': 'ADP',\n",
       "   'pos': 'ADP',\n",
       "   'morph': '',\n",
       "   'lemma': 'à',\n",
       "   'dep': 'mark',\n",
       "   'head': 3},\n",
       "  {'id': 3,\n",
       "   'start': 16,\n",
       "   'end': 23,\n",
       "   'tag': 'VERB',\n",
       "   'pos': 'VERB',\n",
       "   'morph': 'VerbForm=Inf',\n",
       "   'lemma': 'acheter',\n",
       "   'dep': 'xcomp',\n",
       "   'head': 1},\n",
       "  {'id': 4,\n",
       "   'start': 24,\n",
       "   'end': 27,\n",
       "   'tag': 'DET',\n",
       "   'pos': 'DET',\n",
       "   'morph': 'Definite=Ind|Gender=Fem|Number=Sing|PronType=Art',\n",
       "   'lemma': 'un',\n",
       "   'dep': 'det',\n",
       "   'head': 5},\n",
       "  {'id': 5,\n",
       "   'start': 28,\n",
       "   'end': 33,\n",
       "   'tag': 'NOUN',\n",
       "   'pos': 'NOUN',\n",
       "   'morph': 'Gender=Fem|Number=Sing',\n",
       "   'lemma': 'start',\n",
       "   'dep': 'obj',\n",
       "   'head': 3},\n",
       "  {'id': 6,\n",
       "   'start': 33,\n",
       "   'end': 34,\n",
       "   'tag': 'X',\n",
       "   'pos': 'X',\n",
       "   'morph': '',\n",
       "   'lemma': '-',\n",
       "   'dep': 'obj',\n",
       "   'head': 3},\n",
       "  {'id': 7,\n",
       "   'start': 34,\n",
       "   'end': 36,\n",
       "   'tag': 'X',\n",
       "   'pos': 'X',\n",
       "   'morph': '',\n",
       "   'lemma': 'up',\n",
       "   'dep': 'obj',\n",
       "   'head': 3},\n",
       "  {'id': 8,\n",
       "   'start': 37,\n",
       "   'end': 45,\n",
       "   'tag': 'ADJ',\n",
       "   'pos': 'ADJ',\n",
       "   'morph': 'Gender=Fem|Number=Sing',\n",
       "   'lemma': 'anglais',\n",
       "   'dep': 'amod',\n",
       "   'head': 7},\n",
       "  {'id': 9,\n",
       "   'start': 46,\n",
       "   'end': 50,\n",
       "   'tag': 'ADP',\n",
       "   'pos': 'ADP',\n",
       "   'morph': '',\n",
       "   'lemma': 'pour',\n",
       "   'dep': 'case',\n",
       "   'head': 11},\n",
       "  {'id': 10,\n",
       "   'start': 51,\n",
       "   'end': 52,\n",
       "   'tag': 'NUM',\n",
       "   'pos': 'NUM',\n",
       "   'morph': 'NumType=Card',\n",
       "   'lemma': '1',\n",
       "   'dep': 'nummod',\n",
       "   'head': 11},\n",
       "  {'id': 11,\n",
       "   'start': 53,\n",
       "   'end': 61,\n",
       "   'tag': 'NOUN',\n",
       "   'pos': 'NOUN',\n",
       "   'morph': 'Gender=Masc|NumType=Card|Number=Sing',\n",
       "   'lemma': 'milliard',\n",
       "   'dep': 'obl:arg',\n",
       "   'head': 3},\n",
       "  {'id': 12,\n",
       "   'start': 62,\n",
       "   'end': 64,\n",
       "   'tag': 'ADP',\n",
       "   'pos': 'ADP',\n",
       "   'morph': '',\n",
       "   'lemma': 'de',\n",
       "   'dep': 'case',\n",
       "   'head': 13},\n",
       "  {'id': 13,\n",
       "   'start': 65,\n",
       "   'end': 72,\n",
       "   'tag': 'NOUN',\n",
       "   'pos': 'NOUN',\n",
       "   'morph': 'Gender=Masc|Number=Plur',\n",
       "   'lemma': 'dollar',\n",
       "   'dep': 'nmod',\n",
       "   'head': 11}]}"
      ]
     },
     "execution_count": 8,
     "metadata": {},
     "output_type": "execute_result"
    }
   ],
   "source": [
    "doc.to_json()"
   ]
  },
  {
   "cell_type": "code",
   "execution_count": 9,
   "metadata": {},
   "outputs": [
    {
     "name": "stdout",
     "output_type": "stream",
     "text": [
      "'Apple cherche à acheter une start-up anglaise pour 1 milliard de dollars' contient les entités suivantes : Apple (ORG)\n",
      "'Les voitures autonomes déplacent la responsabilité de l'assurance vers les constructeurs' ne contient aucune entité\n",
      "'San Francisco envisage d'interdire les robots coursiers sur les trottoirs' contient les entités suivantes : San Francisco (LOC)\n",
      "'Londres est une grande ville du Royaume-Uni' contient les entités suivantes : Londres (LOC), Royaume-Uni (LOC)\n",
      "'L’Italie choisit ArcelorMittal pour reprendre la plus grande aciérie d’Europe' contient les entités suivantes : Italie (LOC), ArcelorMittal (ORG), Europe (LOC)\n",
      "'Apple lance HomePod parce qu'il se sent menacé par l'Echo d'Amazon' contient les entités suivantes : Apple (ORG), HomePod (ORG), Echo (ORG), Amazon (ORG)\n",
      "'La France ne devrait pas manquer d'électricité cet été, même en cas de canicule' contient les entités suivantes : La France (LOC)\n",
      "'Nouvelles attaques de Trump contre le maire de Londres' contient les entités suivantes : Trump (PER), Londres (LOC)\n",
      "'Où es-tu ?' ne contient aucune entité\n",
      "'Qui est le président de la France ?' contient les entités suivantes : la France (LOC)\n",
      "'Où est la capitale des États-Unis ?' contient les entités suivantes : États-Unis (LOC)\n",
      "'Quand est né Barack Obama ?' contient les entités suivantes : Barack Obama (PER)\n"
     ]
    }
   ],
   "source": [
    "# Appliquer le test sur toutes les phrases\n",
    "for sent in sentences:\n",
    "    doc = nlp(sent)\n",
    "    entities = []\n",
    "    for ent in doc.ents:\n",
    "        entities.append(f\"{ent.text} ({ent.label_})\")\n",
    "    if entities:\n",
    "        print(f\"'{doc.text}' contient les entités suivantes : {', '.join(entities)}\")\n",
    "    else:\n",
    "        print(f\"'{doc.text}' ne contient aucune entité\")"
   ]
  },
  {
   "cell_type": "markdown",
   "metadata": {},
   "source": [
    "## Appliquer la reconnaissance d'entités nommées sur notre corpus"
   ]
  },
  {
   "cell_type": "code",
   "execution_count": 52,
   "metadata": {},
   "outputs": [],
   "source": [
    "# Charger le texte\n",
    "n=900000\n",
    "text = open(\"../data/txt/Bxl_1950_Tome_I_Part_1.txt\" and\n",
    "\"../data/txt/Bxl_1950_Tome_I_Part_2.txt\" and\n",
    "\"../data/txt/Bxl_1950_Tome_I_Part_3.txt\" and\n",
    "\"../data/txt/Bxl_1950_Tome_I_Part_4.txt\" and\n",
    "\"../data/txt/Bxl_1950_Tome_I_Part_5.txt\" and\n",
    "\"../data/txt/Bxl_1950_Tome_I_Part_6.txt\" and\n",
    "\"../data/txt/Bxl_1950_Tome_I_Part_7.txt\" and\n",
    "\"../data/txt/Bxl_1950_Tome_I_Part_8.txt\" and\n",
    "\"../data/txt/Bxl_1950_Tome_II_Part_1.txt\" and\n",
    "\"../data/txt/Bxl_1950_Tome_II_Part_2.txt\" and\n",
    "\"../data/txt/Bxl_1950_Tome_II_Part_3.txt\" and\n",
    "\"../data/txt/Bxl_1950_Tome_II_Part_4.txt\" and\n",
    "\"../data/txt/Bxl_1950_Tome_II_Part_5.txt\" and\n",
    "\"../data/txt/Bxl_1950_Tome_II_Part_6.txt\" and\n",
    "\"../data/txt/Bxl_1950_Tome_II_Part_7.txt\" and\n",
    "\"../data/txt/Bxl_1950_Tome_II_Part_8.txt\" and\n",
    "\"../data/txt/Bxl_1950_Tome_II_Part_9.txt\" and\n",
    "\"../data/txt/Bxl_1950_Tome_II_Part_10.txt\" and\n",
    "\"../data/txt/Bxl_1950_Tome_III_Part_1.txt\" and\n",
    "\"../data/txt/Bxl_1950_Tome_III_Part_2.txt\" and\n",
    "\"../data/txt/Bxl_1950_Tome_III_Part_3.txt\" and\n",
    "\"../data/txt/Bxl_1950_Tome_III_Part_4.txt\" and\n",
    "\"../data/txt/Bxl_1950_Tome_III_Part_5.txt\" and\n",
    "\"../data/txt/Bxl_1950_Tome_III_Part_6.txt\" and\n",
    "\"../data/txt/Bxl_1950_Tome_III_Part_7.txt\", encoding='utf-8').read()[:n]"
   ]
  },
  {
   "cell_type": "code",
   "execution_count": 53,
   "metadata": {},
   "outputs": [
    {
     "name": "stdout",
     "output_type": "stream",
     "text": [
      "CPU times: user 4.83 s, sys: 190 ms, total: 5.03 s\n",
      "Wall time: 5.03 s\n"
     ]
    }
   ],
   "source": [
    "%%time\n",
    "# Traiter le texte\n",
    "\n",
    "doc = nlp(text)"
   ]
  },
  {
   "cell_type": "code",
   "execution_count": 54,
   "metadata": {},
   "outputs": [],
   "source": [
    "# Compter les entités\n",
    "people = defaultdict(int)\n",
    "for ent in doc.ents:\n",
    "    if ent.label_ == \"PER\" and len(ent.text) > 3:\n",
    "        people[ent.text] += 1"
   ]
  },
  {
   "cell_type": "code",
   "execution_count": 49,
   "metadata": {},
   "outputs": [
    {
     "name": "stdout",
     "output_type": "stream",
     "text": [
      "Joseph apparait 2 fois dans le corpus\n",
      "René apparait 2 fois dans le corpus\n",
      "Morelle apparait 2 fois dans le corpus\n",
      "u v r apparait 2 fois dans le corpus\n",
      "Prorogation apparait 2 fois dans le corpus\n",
      "Edouard apparait 1 fois dans le corpus\n",
      "Jacques apparait 1 fois dans le corpus\n",
      "Receveur apparait 1 fois dans le corpus\n",
      "H A M M E apparait 1 fois dans le corpus\n",
      "Mariette apparait 1 fois dans le corpus\n",
      "H E Y M B E E C K apparait 1 fois dans le corpus\n",
      "Fondation Baron Lambert apparait 1 fois dans le corpus\n",
      "H O O Y E apparait 1 fois dans le corpus\n",
      "Séraphine apparait 1 fois dans le corpus\n",
      "LANGENHOVE apparait 1 fois dans le corpus\n",
      "Jules apparait 1 fois dans le corpus\n",
      "M. Deboeck apparait 1 fois dans le corpus\n",
      "Rappelle apparait 1 fois dans le corpus\n",
      "M E E apparait 1 fois dans le corpus\n",
      "O V E R M E apparait 1 fois dans le corpus\n",
      "Céline apparait 1 fois dans le corpus\n",
      "Willy apparait 1 fois dans le corpus\n",
      "Anne apparait 1 fois dans le corpus\n",
      "Octroi apparait 1 fois dans le corpus\n",
      "Jean apparait 1 fois dans le corpus\n",
      "Commissaire apparait 1 fois dans le corpus\n",
      "Guillaume apparait 1 fois dans le corpus\n",
      "Echevin apparait 1 fois dans le corpus\n",
      "Gazelee apparait 1 fois dans le corpus\n",
      "Vermeire apparait 1 fois dans le corpus\n",
      "Louise apparait 1 fois dans le corpus\n",
      "Schmitz apparait 1 fois dans le corpus\n",
      "Thonet apparait 1 fois dans le corpus\n",
      "Ambiorix apparait 1 fois dans le corpus\n",
      "Van Praet apparait 1 fois dans le corpus\n",
      "Wannecouter apparait 1 fois dans le corpus\n",
      "Répond apparait 1 fois dans le corpus\n",
      "| i\n",
      "\n",
      "LXXI1 apparait 1 fois dans le corpus\n",
      "Victor apparait 1 fois dans le corpus\n",
      "Q u e apparait 1 fois dans le corpus\n",
      "u p r o apparait 1 fois dans le corpus\n",
      "q u e apparait 1 fois dans le corpus\n",
      "Robert apparait 1 fois dans le corpus\n",
      "Emile apparait 1 fois dans le corpus\n",
      "Roger apparait 1 fois dans le corpus\n",
      "W I B A I apparait 1 fois dans le corpus\n",
      "pold apparait 1 fois dans le corpus\n",
      "Lepage apparait 1 fois dans le corpus\n"
     ]
    }
   ],
   "source": [
    "# Trier et imprimer\n",
    "\n",
    "sorted_people = sorted(people.items(), key=lambda kv: kv[1], reverse=True)\n",
    "\n",
    "for person, freq in sorted_people[:50]:\n",
    "    print(f\"{person} apparait {freq} fois dans le corpus\")"
   ]
  },
  {
   "cell_type": "code",
   "execution_count": null,
   "metadata": {},
   "outputs": [],
   "source": []
  }
 ],
 "metadata": {
  "kernelspec": {
   "display_name": "Python 3 (ipykernel)",
   "language": "python",
   "name": "python3"
  },
  "language_info": {
   "codemirror_mode": {
    "name": "ipython",
    "version": 3
   },
   "file_extension": ".py",
   "mimetype": "text/x-python",
   "name": "python",
   "nbconvert_exporter": "python",
   "pygments_lexer": "ipython3",
   "version": "3.9.7"
  }
 },
 "nbformat": 4,
 "nbformat_minor": 4
}
