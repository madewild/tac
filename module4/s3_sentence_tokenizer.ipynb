{
 "cells": [
  {
   "cell_type": "markdown",
   "metadata": {},
   "source": [
    "# Segmentation en phrases"
   ]
  },
  {
   "cell_type": "markdown",
   "metadata": {},
   "source": [
    "## Imports"
   ]
  },
  {
   "cell_type": "code",
   "execution_count": 1,
   "metadata": {},
   "outputs": [],
   "source": [
    "import os\n",
    "import sys\n",
    "import nltk\n",
    "from nltk.tokenize import sent_tokenize"
   ]
  },
  {
   "cell_type": "markdown",
   "metadata": {},
   "source": [
    "## Fichiers d'inputs et d'outputs"
   ]
  },
  {
   "cell_type": "code",
   "execution_count": 2,
   "metadata": {},
   "outputs": [],
   "source": [
    "infile = \"../data/all.txt\"\n",
    "outfile = \"../data/sents_NEW.txt\""
   ]
  },
  {
   "cell_type": "markdown",
   "metadata": {},
   "source": [
    "## Segmentation en phrases du corpus complet et création d'un nouveau fichier"
   ]
  },
  {
   "cell_type": "markdown",
   "metadata": {},
   "source": [
    "**Important** : pour traiter le corpus complet, indiquez `LIMIT = None`"
   ]
  },
  {
   "cell_type": "code",
   "execution_count": 3,
   "metadata": {},
   "outputs": [],
   "source": [
    "LIMIT = 1000000"
   ]
  },
  {
   "cell_type": "code",
   "execution_count": 4,
   "metadata": {
    "tags": []
   },
   "outputs": [
    {
     "name": "stdout",
     "output_type": "stream",
     "text": [
      "processing line 0/1000000\n",
      "processing line 10000/1000000\n",
      "processing line 20000/1000000\n",
      "processing line 30000/1000000\n",
      "processing line 40000/1000000\n",
      "processing line 50000/1000000\n",
      "processing line 60000/1000000\n",
      "processing line 70000/1000000\n",
      "processing line 80000/1000000\n",
      "processing line 90000/1000000\n",
      "processing line 100000/1000000\n",
      "processing line 110000/1000000\n",
      "processing line 120000/1000000\n",
      "processing line 130000/1000000\n",
      "processing line 140000/1000000\n",
      "processing line 150000/1000000\n",
      "processing line 160000/1000000\n",
      "processing line 170000/1000000\n",
      "processing line 180000/1000000\n",
      "processing line 190000/1000000\n",
      "processing line 200000/1000000\n",
      "processing line 210000/1000000\n",
      "processing line 220000/1000000\n",
      "processing line 230000/1000000\n",
      "processing line 240000/1000000\n",
      "processing line 250000/1000000\n",
      "processing line 260000/1000000\n",
      "processing line 270000/1000000\n",
      "processing line 280000/1000000\n",
      "processing line 290000/1000000\n",
      "processing line 300000/1000000\n",
      "processing line 310000/1000000\n",
      "processing line 320000/1000000\n",
      "processing line 330000/1000000\n",
      "processing line 340000/1000000\n",
      "processing line 350000/1000000\n",
      "processing line 360000/1000000\n",
      "processing line 370000/1000000\n",
      "processing line 380000/1000000\n",
      "processing line 390000/1000000\n",
      "processing line 400000/1000000\n",
      "processing line 410000/1000000\n",
      "processing line 420000/1000000\n",
      "processing line 430000/1000000\n",
      "processing line 440000/1000000\n",
      "processing line 450000/1000000\n",
      "processing line 460000/1000000\n",
      "processing line 470000/1000000\n",
      "processing line 480000/1000000\n",
      "processing line 490000/1000000\n",
      "processing line 500000/1000000\n",
      "processing line 510000/1000000\n",
      "processing line 520000/1000000\n",
      "processing line 530000/1000000\n",
      "processing line 540000/1000000\n",
      "processing line 550000/1000000\n",
      "processing line 560000/1000000\n",
      "processing line 570000/1000000\n",
      "processing line 580000/1000000\n",
      "processing line 590000/1000000\n",
      "processing line 600000/1000000\n",
      "processing line 610000/1000000\n",
      "processing line 620000/1000000\n",
      "processing line 630000/1000000\n",
      "processing line 640000/1000000\n",
      "processing line 650000/1000000\n",
      "processing line 660000/1000000\n",
      "processing line 670000/1000000\n",
      "processing line 680000/1000000\n",
      "processing line 690000/1000000\n",
      "processing line 700000/1000000\n",
      "processing line 710000/1000000\n",
      "processing line 720000/1000000\n",
      "processing line 730000/1000000\n",
      "processing line 740000/1000000\n",
      "processing line 750000/1000000\n",
      "processing line 760000/1000000\n",
      "processing line 770000/1000000\n",
      "processing line 780000/1000000\n",
      "processing line 790000/1000000\n",
      "processing line 800000/1000000\n",
      "processing line 810000/1000000\n",
      "processing line 820000/1000000\n",
      "processing line 830000/1000000\n",
      "processing line 840000/1000000\n",
      "processing line 850000/1000000\n",
      "processing line 860000/1000000\n",
      "processing line 870000/1000000\n",
      "processing line 880000/1000000\n",
      "processing line 890000/1000000\n",
      "processing line 900000/1000000\n",
      "processing line 910000/1000000\n",
      "processing line 920000/1000000\n",
      "processing line 930000/1000000\n",
      "processing line 940000/1000000\n",
      "processing line 950000/1000000\n",
      "processing line 960000/1000000\n",
      "processing line 970000/1000000\n",
      "processing line 980000/1000000\n",
      "processing line 990000/1000000\n",
      "Done\n"
     ]
    }
   ],
   "source": [
    "with open(outfile, 'w', encoding=\"utf-8\") as output:\n",
    "    with open(infile, encoding=\"utf-8\", errors=\"backslashreplace\") as f:\n",
    "        content = f.readlines()\n",
    "        content = content[:LIMIT] if LIMIT is not None else content\n",
    "        n_lines = len(content)\n",
    "        for i, line in enumerate(content):\n",
    "            if i % 10000 == 0:\n",
    "                print(f'processing line {i}/{n_lines}')\n",
    "            sentences = sent_tokenize(line)\n",
    "            for sent in sentences:\n",
    "                output.write(sent + \"\\n\")\n",
    "print(\"Done\")"
   ]
  },
  {
   "cell_type": "code",
   "execution_count": null,
   "metadata": {},
   "outputs": [],
   "source": []
  },
  {
   "cell_type": "code",
   "execution_count": null,
   "metadata": {},
   "outputs": [],
   "source": []
  }
 ],
 "metadata": {
  "kernelspec": {
   "display_name": "Python 3 (ipykernel)",
   "language": "python",
   "name": "python3"
  },
  "language_info": {
   "codemirror_mode": {
    "name": "ipython",
    "version": 3
   },
   "file_extension": ".py",
   "mimetype": "text/x-python",
   "name": "python",
   "nbconvert_exporter": "python",
   "pygments_lexer": "ipython3",
   "version": "3.9.7"
  }
 },
 "nbformat": 4,
 "nbformat_minor": 4
}
