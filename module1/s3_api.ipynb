{
 "metadata": {
  "language_info": {
   "codemirror_mode": {
    "name": "ipython",
    "version": 3
   },
   "file_extension": ".py",
   "mimetype": "text/x-python",
   "name": "python",
   "nbconvert_exporter": "python",
   "pygments_lexer": "ipython3",
   "version": "3.9.0-final"
  },
  "orig_nbformat": 2,
  "kernelspec": {
   "name": "Python 3.9.0 64-bit",
   "display_name": "Python 3.9.0 64-bit",
   "metadata": {
    "interpreter": {
     "hash": "7812ea015bdcee6f23a998adcdd2ef97c151c0c241b7b7070987d9313e41299d"
    }
   }
  }
 },
 "nbformat": 4,
 "nbformat_minor": 2,
 "cells": [
  {
   "source": [
    "# Testing web APIs with HTTP GET method"
   ],
   "cell_type": "markdown",
   "metadata": {}
  },
  {
   "cell_type": "code",
   "execution_count": 4,
   "metadata": {},
   "outputs": [],
   "source": [
    "import json\n",
    "import sys\n",
    "\n",
    "import requests"
   ]
  },
  {
   "source": [
    "## Fonctions"
   ],
   "cell_type": "markdown",
   "metadata": {}
  },
  {
   "cell_type": "code",
   "execution_count": 2,
   "metadata": {},
   "outputs": [],
   "source": [
    "def print_coord(address):\n",
    "    \"\"\"Retrieve coordinates from Open Street Map\"\"\"\n",
    "    osm = \"https://nominatim.openstreetmap.org/search\"\n",
    "    data = {'q': address, 'format': 'json'}\n",
    "    resp = requests.get(osm, data)\n",
    "    json_list = json.loads(resp.text)\n",
    "    for item in json_list:\n",
    "        display_name = item['display_name']\n",
    "        short_name = display_name.split(\", \")[0]\n",
    "        lat = item['lat']\n",
    "        lon = item['lon']\n",
    "        print(f\"{short_name} ({lat} - {lon})\")\n"
   ]
  },
  {
   "cell_type": "code",
   "execution_count": 3,
   "metadata": {},
   "outputs": [],
   "source": [
    "def print_info(country_name):\n",
    "    \"\"\"Retrieve country info from REST API\"\"\"\n",
    "    base_url = \"https://restcountries.eu/rest/v2/\"\n",
    "    name_url = base_url + \"name/\"\n",
    "    code_url = base_url + \"alpha/\"\n",
    "    resp = requests.get(name_url + country_name)\n",
    "    try:\n",
    "        country = json.loads(resp.text)[0]\n",
    "        languages = country['languages']\n",
    "        print(f\"Languages: {', '.join([lang['name'] for lang in languages])}\")\n",
    "        border_codes = country['borders']\n",
    "        border_names = []\n",
    "        for code in border_codes:\n",
    "            resp = requests.get(code_url + code)\n",
    "            border_country = json.loads(resp.text)\n",
    "            border_name = border_country[\"name\"]\n",
    "            border_names.append(border_name)\n",
    "        print(f\"Borders: {', '.join(border_names)}\")\n",
    "    except KeyError:\n",
    "        print(\"Unknown country, please use English or native name\")"
   ]
  },
  {
   "source": [
    "## Exemple #1: Obtenir la longitude et la latitude de l’Université libre de Bruxelles"
   ],
   "cell_type": "markdown",
   "metadata": {}
  },
  {
   "cell_type": "code",
   "execution_count": 4,
   "metadata": {
    "tags": []
   },
   "outputs": [
    {
     "output_type": "stream",
     "name": "stdout",
     "text": [
      "Bibliothèque de droit et de criminologie (50.8126596 - 4.3798235)\nCReA-Patrimoine (50.811503 - 4.3821658)\n"
     ]
    }
   ],
   "source": [
    "print_coord(\"Avenue Franklin Roosevelt 50, 1050 Bruxelles\")"
   ]
  },
  {
   "source": [
    "## Exemple #2: Récupérer des informations sur la France"
   ],
   "cell_type": "markdown",
   "metadata": {}
  },
  {
   "cell_type": "code",
   "execution_count": 5,
   "metadata": {
    "tags": []
   },
   "outputs": [
    {
     "output_type": "stream",
     "name": "stdout",
     "text": [
      "Languages: French\n",
      "Borders: Andorra, Belgium, Germany, Italy, Luxembourg, Monaco, Spain, Switzerland\n"
     ]
    }
   ],
   "source": [
    "print_info('France')"
   ]
  },
  {
   "cell_type": "code",
   "execution_count": null,
   "metadata": {},
   "outputs": [],
   "source": []
  }
 ]
}