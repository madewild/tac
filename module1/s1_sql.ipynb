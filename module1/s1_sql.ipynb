{
 "cells": [
  {
   "cell_type": "markdown",
   "metadata": {},
   "source": [
    "# Base de données: interroger une base de données MySQL"
   ]
  },
  {
   "cell_type": "markdown",
   "metadata": {},
   "source": [
    "## Imports"
   ]
  },
  {
   "cell_type": "code",
   "execution_count": 1,
   "metadata": {},
   "outputs": [],
   "source": [
    "import os\n",
    "import sqlite3\n",
    "import zipfile\n",
    "from pathlib import Path\n",
    "import requests\n",
    "\n",
    "# Créer un dossier data s'il n'existe pas encore\n",
    "if not os.path.exists(\"../data\"):\n",
    "    os.mkdir(\"../data\")"
   ]
  },
  {
   "cell_type": "markdown",
   "metadata": {},
   "source": [
    "## Créer une base de données SQLite"
   ]
  },
  {
   "cell_type": "code",
   "execution_count": 2,
   "metadata": {},
   "outputs": [],
   "source": [
    "# Créer un répertoire DB s'il n'existe pas encore\n",
    "db_path = '../data/db'\n",
    "if not os.path.exists(db_path):\n",
    "    os.mkdir(db_path)"
   ]
  },
  {
   "cell_type": "code",
   "execution_count": 3,
   "metadata": {},
   "outputs": [],
   "source": [
    "# Récupérer le fichier ZIP qui contient la DB de test\n",
    "url = \"https://www.sqlitetutorial.net/wp-content/uploads/2018/03/chinook.zip\"\n",
    "filename = url.split(\"/\")[-1]\n",
    "# Récupérer le fichier zip dans la RAM\n",
    "response = requests.get(url)"
   ]
  },
  {
   "cell_type": "code",
   "execution_count": 4,
   "metadata": {},
   "outputs": [],
   "source": [
    "# Ecrire le fichier sur le disque\n",
    "with open(os.path.join(db_path, filename), 'wb') as f:\n",
    "    f.write(response.content)"
   ]
  },
  {
   "cell_type": "code",
   "execution_count": 5,
   "metadata": {},
   "outputs": [],
   "source": [
    "# Extraire le zip pour obtenir la db\n",
    "with zipfile.ZipFile(os.path.join(db_path, filename), 'r') as zip_ref:\n",
    "    zip_ref.extractall(db_path)"
   ]
  },
  {
   "cell_type": "markdown",
   "metadata": {},
   "source": [
    "## Schéma de la base de données\n",
    "\n",
    "<img src=\"https://cdn.sqlitetutorial.net/wp-content/uploads/2015/11/sqlite-sample-database-color.jpg\" />"
   ]
  },
  {
   "cell_type": "markdown",
   "metadata": {},
   "source": [
    "## Se connecter à la base de données"
   ]
  },
  {
   "cell_type": "code",
   "execution_count": 6,
   "metadata": {},
   "outputs": [],
   "source": [
    "conn = sqlite3.connect(os.path.join(db_path, \"chinook.db\"))\n",
    "c = conn.cursor()"
   ]
  },
  {
   "cell_type": "markdown",
   "metadata": {},
   "source": [
    "## Trouver l'identifiant de Miles Davis"
   ]
  },
  {
   "cell_type": "code",
   "execution_count": 7,
   "metadata": {
    "tags": []
   },
   "outputs": [
    {
     "name": "stdout",
     "output_type": "stream",
     "text": [
      "68\n"
     ]
    }
   ],
   "source": [
    "artist = 'Miles Davis'\n",
    "\n",
    "query1 = f\"\"\"\n",
    "    SELECT\n",
    "        artistId\n",
    "    FROM\n",
    "        artists\n",
    "    WHERE\n",
    "        name = '{artist}';\n",
    "\"\"\"\n",
    "c.execute(query1)\n",
    "artist_id = c.fetchone()[0]\n",
    "\n",
    "print(artist_id)"
   ]
  },
  {
   "cell_type": "markdown",
   "metadata": {},
   "source": [
    "## Trouver les identifiants d'albums de Miles Davis"
   ]
  },
  {
   "cell_type": "code",
   "execution_count": 8,
   "metadata": {
    "tags": []
   },
   "outputs": [
    {
     "name": "stdout",
     "output_type": "stream",
     "text": [
      "['48', '49', '157']\n"
     ]
    }
   ],
   "source": [
    "query2 = f\"\"\"\n",
    "    SELECT\n",
    "        albumId\n",
    "    FROM \n",
    "        albums \n",
    "    WHERE \n",
    "        artistId = '{artist_id}';\n",
    "\"\"\"\n",
    "albums_ids = []\n",
    "for row in c.execute(query2):\n",
    "    albums_ids.append(str(row[0]))\n",
    "\n",
    "print(albums_ids)"
   ]
  },
  {
   "cell_type": "markdown",
   "metadata": {},
   "source": [
    "## Trouver les morceaux des albums de Miles Davis"
   ]
  },
  {
   "cell_type": "code",
   "execution_count": 9,
   "metadata": {
    "tags": []
   },
   "outputs": [
    {
     "name": "stdout",
     "output_type": "stream",
     "text": [
      "\n",
      "36 distinct songs found:\n",
      "\n",
      "'Round Midnight\n",
      "Black Satin\n",
      "Blues For Pablo\n",
      "Blues For Pablo (Alternate Take)\n",
      "Bye Bye Blackbird\n",
      "Compulsion\n",
      "E.S.P.\n",
      "Generique\n",
      "I Don't Wanna Be Kissed (By Anyone But You)\n",
      "I Don't Wanna Be Kissed (By Anyone But You) (Alternate Take)\n",
      "Jean Pierre (Live)\n",
      "Jeru\n",
      "Lament\n",
      "Little Church (Live)\n",
      "Miles Ahead\n",
      "Miles Runs The Voodoo Down\n",
      "My Funny Valentine (Live)\n",
      "My Ship\n",
      "Nefertiti\n",
      "New Rhumba\n",
      "Now's The Time\n",
      "Petits Machins (Little Stuff)\n",
      "Portia\n",
      "So What\n",
      "Someday My Prince Will Come\n",
      "Springsville\n",
      "Springsville (Alternate Take)\n",
      "Summertime\n",
      "Tempus Fugit\n",
      "The Duke\n",
      "The Maids Of Cadiz\n",
      "The Meaning Of The Blues\n",
      "The Meaning Of The Blues/Lament (Alternate Take)\n",
      "The Pan Piper\n",
      "Time After Time\n",
      "Walkin'\n"
     ]
    }
   ],
   "source": [
    "query3 = f\"\"\"\n",
    "    SELECT\n",
    "        name,\n",
    "        albumId\n",
    "    FROM\n",
    "        tracks\n",
    "    WHERE \n",
    "        albumId IN ({\",\".join(albums_ids)});\n",
    "\"\"\"\n",
    "\n",
    "songs = set()\n",
    "for row in c.execute(query3):\n",
    "    songs.add(row[0])\n",
    "\n",
    "print(f\"\\n{len(songs)} distinct songs found:\\n\")\n",
    "for song in sorted(songs):\n",
    "    print(song)"
   ]
  },
  {
   "cell_type": "markdown",
   "metadata": {},
   "source": [
    "## En une seule requête..."
   ]
  },
  {
   "cell_type": "code",
   "execution_count": 10,
   "metadata": {},
   "outputs": [
    {
     "name": "stdout",
     "output_type": "stream",
     "text": [
      "\n",
      "36 distinct songs found:\n",
      "\n",
      "'Round Midnight\n",
      "Black Satin\n",
      "Blues For Pablo\n",
      "Blues For Pablo (Alternate Take)\n",
      "Bye Bye Blackbird\n",
      "Compulsion\n",
      "E.S.P.\n",
      "Generique\n",
      "I Don't Wanna Be Kissed (By Anyone But You)\n",
      "I Don't Wanna Be Kissed (By Anyone But You) (Alternate Take)\n",
      "Jean Pierre (Live)\n",
      "Jeru\n",
      "Lament\n",
      "Little Church (Live)\n",
      "Miles Ahead\n",
      "Miles Runs The Voodoo Down\n",
      "My Funny Valentine (Live)\n",
      "My Ship\n",
      "Nefertiti\n",
      "New Rhumba\n",
      "Now's The Time\n",
      "Petits Machins (Little Stuff)\n",
      "Portia\n",
      "So What\n",
      "Someday My Prince Will Come\n",
      "Springsville\n",
      "Springsville (Alternate Take)\n",
      "Summertime\n",
      "Tempus Fugit\n",
      "The Duke\n",
      "The Maids Of Cadiz\n",
      "The Meaning Of The Blues\n",
      "The Meaning Of The Blues/Lament (Alternate Take)\n",
      "The Pan Piper\n",
      "Time After Time\n",
      "Walkin'\n"
     ]
    }
   ],
   "source": [
    "query4 = f\"\"\"\n",
    "    SELECT\n",
    "        tracks.name,\n",
    "        tracks.albumId\n",
    "    FROM\n",
    "        artists\n",
    "        JOIN albums ON artists.artistId = albums.artistId\n",
    "        JOIN tracks ON albums.albumId = tracks.albumId\n",
    "    WHERE \n",
    "        artists.name = '{artist}';\n",
    "\"\"\"\n",
    "\n",
    "songs = set()\n",
    "for row in c.execute(query4):\n",
    "    songs.add(row[0])\n",
    "\n",
    "print(f\"\\n{len(songs)} distinct songs found:\\n\")\n",
    "for song in sorted(songs):\n",
    "    print(song)"
   ]
  },
  {
   "cell_type": "markdown",
   "metadata": {},
   "source": [
    "## Pour en savoir plus"
   ]
  },
  {
   "cell_type": "markdown",
   "metadata": {},
   "source": [
    "- Tutoriel SQLite : https://www.sqlitetutorial.net/"
   ]
  },
  {
   "cell_type": "code",
   "execution_count": null,
   "metadata": {},
   "outputs": [],
   "source": []
  }
 ],
 "metadata": {
  "kernelspec": {
   "display_name": "Python 3 (ipykernel)",
   "language": "python",
   "name": "python3"
  },
  "language_info": {
   "codemirror_mode": {
    "name": "ipython",
    "version": 3
   },
   "file_extension": ".py",
   "mimetype": "text/x-python",
   "name": "python",
   "nbconvert_exporter": "python",
   "pygments_lexer": "ipython3",
   "version": "3.9.7"
  }
 },
 "nbformat": 4,
 "nbformat_minor": 4
}
