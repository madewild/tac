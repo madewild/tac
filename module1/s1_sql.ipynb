{
 "metadata": {
  "language_info": {
   "codemirror_mode": {
    "name": "ipython",
    "version": 3
   },
   "file_extension": ".py",
   "mimetype": "text/x-python",
   "name": "python",
   "nbconvert_exporter": "python",
   "pygments_lexer": "ipython3",
   "version": "3.9.0-final"
  },
  "orig_nbformat": 2,
  "kernelspec": {
   "name": "Python 3.9.0 64-bit",
   "display_name": "Python 3.9.0 64-bit",
   "metadata": {
    "interpreter": {
     "hash": "7812ea015bdcee6f23a998adcdd2ef97c151c0c241b7b7070987d9313e41299d"
    }
   }
  }
 },
 "nbformat": 4,
 "nbformat_minor": 2,
 "cells": [
  {
   "source": [
    "# Query sample MySQL database"
   ],
   "cell_type": "markdown",
   "metadata": {}
  },
  {
   "cell_type": "code",
   "execution_count": 1,
   "metadata": {},
   "outputs": [],
   "source": [
    "import os.path\n",
    "import sqlite3\n",
    "import zipfile\n",
    "from pathlib import Path\n",
    "\n",
    "import requests"
   ]
  },
  {
   "source": [
    "## Créer une base de données SQLite"
   ],
   "cell_type": "markdown",
   "metadata": {}
  },
  {
   "cell_type": "code",
   "execution_count": 2,
   "metadata": {},
   "outputs": [],
   "source": [
    "import os"
   ]
  },
  {
   "cell_type": "code",
   "execution_count": 3,
   "metadata": {},
   "outputs": [
    {
     "output_type": "execute_result",
     "data": {
      "text/plain": [
       "'/Users/charalambos/OneDrive/Documents/ULB/Bloc2/Traitement automatique de corpus - STIC-B545/RepoGHCK/tac/module1'"
      ]
     },
     "metadata": {},
     "execution_count": 3
    }
   ],
   "source": [
    "os.getcwd()"
   ]
  },
  {
   "cell_type": "code",
   "execution_count": 4,
   "metadata": {},
   "outputs": [],
   "source": [
    "data_path = '/Volumes/Macintosh HD/Data/ADB'"
   ]
  },
  {
   "cell_type": "code",
   "execution_count": 5,
   "metadata": {},
   "outputs": [],
   "source": [
    "if not os.path.isfile(f'{data_path}/db/chinook.db'): \n",
    "\n",
    "    # Définition de variables\n",
    "    url = \"https://www.sqlitetutorial.net/wp-content/uploads/2018/03/chinook.zip\"\n",
    "    filename = url.split(\"/\")[-1]\n",
    "    Path(\"data/db\").mkdir(parents=True, exist_ok=True)\n",
    "    save_loc = f\"data/db/{filename}\"\n",
    "    response = requests.get(url)\n",
    "\n",
    "    with open(save_loc, 'wb') as f:\n",
    "        f.write(response.content)\n",
    "\n",
    "    with zipfile.ZipFile(save_loc, 'r') as zip_ref:\n",
    "        zip_ref.extractall(\"data/db/\")"
   ]
  },
  {
   "source": [
    "## Schéma de la base de données\n",
    "\n",
    "<img src=\"https://cdn.sqlitetutorial.net/wp-content/uploads/2015/11/sqlite-sample-database-color.jpg\" />"
   ],
   "cell_type": "markdown",
   "metadata": {}
  },
  {
   "source": [
    "## Se connecter à la base de données"
   ],
   "cell_type": "markdown",
   "metadata": {}
  },
  {
   "cell_type": "code",
   "execution_count": 10,
   "metadata": {},
   "outputs": [],
   "source": [
    "conn = sqlite3.connect('data/db/chinook.db')\n",
    "c = conn.cursor()"
   ]
  },
  {
   "source": [
    "## Trouver l'identifiant de Miles Davis"
   ],
   "cell_type": "markdown",
   "metadata": {}
  },
  {
   "cell_type": "code",
   "execution_count": 11,
   "metadata": {
    "tags": []
   },
   "outputs": [
    {
     "output_type": "stream",
     "name": "stdout",
     "text": [
      "(68,)\n"
     ]
    }
   ],
   "source": [
    "artist = 'Miles Davis'\n",
    "\n",
    "query1 = \"SELECT ArtistId from artists WHERE Name = ?\"\n",
    "c.execute(query1, (artist,))\n",
    "artist_id = c.fetchone()\n",
    "\n",
    "print(artist_id)"
   ]
  },
  {
   "source": [
    "## Trouver les identifiants d'albums de Miles Davis"
   ],
   "cell_type": "markdown",
   "metadata": {}
  },
  {
   "cell_type": "code",
   "execution_count": 12,
   "metadata": {
    "tags": []
   },
   "outputs": [
    {
     "output_type": "stream",
     "name": "stdout",
     "text": [
      "['48', '49', '157']\n"
     ]
    }
   ],
   "source": [
    "query2 = \"SELECT * from albums where ArtistId = ?\"\n",
    "albums_ids = []\n",
    "for row in c.execute(query2, artist_id):\n",
    "    albums_ids.append(str(row[0]))\n",
    "\n",
    "print(albums_ids)"
   ]
  },
  {
   "source": [
    "## Trouver les morceaux des albums de Miles Davis"
   ],
   "cell_type": "markdown",
   "metadata": {}
  },
  {
   "cell_type": "code",
   "execution_count": 9,
   "metadata": {
    "tags": []
   },
   "outputs": [
    {
     "output_type": "stream",
     "name": "stdout",
     "text": [
      "\n36 distinct songs found:\n\n'Round Midnight\nBlack Satin\nBlues For Pablo\nBlues For Pablo (Alternate Take)\nBye Bye Blackbird\nCompulsion\nE.S.P.\nGenerique\nI Don't Wanna Be Kissed (By Anyone But You)\nI Don't Wanna Be Kissed (By Anyone But You) (Alternate Take)\nJean Pierre (Live)\nJeru\nLament\nLittle Church (Live)\nMiles Ahead\nMiles Runs The Voodoo Down\nMy Funny Valentine (Live)\nMy Ship\nNefertiti\nNew Rhumba\nNow's The Time\nPetits Machins (Little Stuff)\nPortia\nSo What\nSomeday My Prince Will Come\nSpringsville\nSpringsville (Alternate Take)\nSummertime\nTempus Fugit\nThe Duke\nThe Maids Of Cadiz\nThe Meaning Of The Blues\nThe Meaning Of The Blues/Lament (Alternate Take)\nThe Pan Piper\nTime After Time\nWalkin'\n"
     ]
    }
   ],
   "source": [
    "query3 = f'SELECT Name, AlbumId FROM tracks WHERE AlbumId IN ({\",\".join(albums_ids)})'\n",
    "songs = set()\n",
    "for row in c.execute(query3):\n",
    "    songs.add(row[0])\n",
    "\n",
    "print(f\"\\n{len(songs)} distinct songs found:\\n\")\n",
    "for song in sorted(songs):\n",
    "    print(song)"
   ]
  },
  {
   "cell_type": "code",
   "execution_count": null,
   "metadata": {},
   "outputs": [],
   "source": []
  }
 ]
}