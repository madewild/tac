{
 "metadata": {
  "language_info": {
   "codemirror_mode": {
    "name": "ipython",
    "version": 3
   },
   "file_extension": ".py",
   "mimetype": "text/x-python",
   "name": "python",
   "nbconvert_exporter": "python",
   "pygments_lexer": "ipython3",
   "version": "3.7.7-final"
  },
  "orig_nbformat": 2,
  "kernelspec": {
   "name": "Python 3.7.7 64-bit ('venv': venv)",
   "display_name": "Python 3.7.7 64-bit ('venv': venv)",
   "metadata": {
    "interpreter": {
     "hash": "ed2973e18a45e46195aea83f71ebc09fe8d3266afb265a31fa421a956b7d8fb0"
    }
   }
  }
 },
 "nbformat": 4,
 "nbformat_minor": 2,
 "cells": [
  {
   "source": [
    "# Converting PDFs to text files and moving them to a new directory"
   ],
   "cell_type": "markdown",
   "metadata": {}
  },
  {
   "source": [
    "## Lister les fichiers dans `data/pdf`"
   ],
   "cell_type": "markdown",
   "metadata": {}
  },
  {
   "cell_type": "code",
   "execution_count": 1,
   "metadata": {},
   "outputs": [],
   "source": [
    "from os import listdir\n",
    "from os.path import isfile, join\n",
    "\n",
    "pdf_path = '../module1/data/pdf'\n",
    "\n",
    "pdfs = [f for f in listdir(pdf_path) if isfile(join(pdf_path, f))]"
   ]
  },
  {
   "cell_type": "code",
   "execution_count": 2,
   "metadata": {},
   "outputs": [
    {
     "output_type": "execute_result",
     "data": {
      "text/plain": "['Bxl_1850_Tome_II1_Part_4.pdf',\n 'Bxl_1849_Tome_I1_Part_2.pdf',\n 'Bxl_1849_Tome_II1_Part_4.pdf']"
     },
     "metadata": {},
     "execution_count": 2
    }
   ],
   "source": [
    "pdfs[:3]"
   ]
  },
  {
   "source": [
    "## Installer PdfToText (MacOS)\n",
    "\n",
    "Sur le terminal, lancer :\n",
    "\n",
    "```\n",
    "ruby -e \"$(curl -fsSL https://raw.githubusercontent.com/Homebrew/install/master/install)\" < /dev/null 2> /dev/null ; brew install caskroom/cask/brew-cask 2> /dev/null\n",
    "```\n",
    "\n",
    "Et puis :\n",
    "```\n",
    "brew cask install pdftotext\n",
    "```"
   ],
   "cell_type": "markdown",
   "metadata": {}
  },
  {
   "source": [
    "## Convertir les PDFs en TXT"
   ],
   "cell_type": "markdown",
   "metadata": {}
  },
  {
   "cell_type": "code",
   "execution_count": 13,
   "metadata": {},
   "outputs": [],
   "source": [
    "import subprocess"
   ]
  },
  {
   "cell_type": "code",
   "execution_count": 19,
   "metadata": {},
   "outputs": [],
   "source": [
    "from pathlib import Path\n",
    "\n",
    "txt_path = '../module1/data/txt'\n",
    "\n",
    "Path(txt_path).mkdir(parents=True, exist_ok=True)"
   ]
  },
  {
   "cell_type": "code",
   "execution_count": 22,
   "metadata": {
    "tags": []
   },
   "outputs": [
    {
     "output_type": "stream",
     "name": "stdout",
     "text": "Bxl_1850_Tome_II1_Part_4.pdf converted!\nBxl_1849_Tome_I1_Part_2.pdf converted!\nBxl_1849_Tome_II1_Part_4.pdf converted!\nBxl_1849_Tome_II1_Part_5.pdf converted!\nBxl_1849_Tome_I1_Part_3.pdf converted!\nBxl_1847_Tome_I1_Part_5.pdf converted!\nBxl_1849_Tome_I1_Part_1.pdf converted!\nBxl_1849_Tome_II1_Part_7.pdf converted!\nBxl_1849_Tome_II1_Part_6.pdf converted!\nBxl_1847_Tome_I1_Part_4.pdf converted!\nBxl_1850_Tome_II1_Part_2.pdf converted!\nBxl_1849_Tome_I1_Part_4.pdf converted!\nBxl_1849_Tome_II1_Part_2.pdf converted!\nBxl_1849_Tome_II1_Part_3.pdf converted!\nBxl_1849_Tome_I1_Part_5.pdf converted!\nBxl_1847_Tome_I1_Part_1.pdf converted!\nBxl_1850_Tome_II1_Part_3.pdf converted!\nBxl_1850_Tome_II1_Part_1.pdf converted!\nBxl_1847_Tome_I1_Part_3.pdf converted!\nBxl_1849_Tome_II1_Part_1.pdf converted!\nBxl_1847_Tome_I1_Part_2.pdf converted!\nBxl_1848_Tome_I1_Part_3.pdf converted!\nBxl_1848_Tome_I1_Part_2.pdf converted!\nBxl_1848_Tome_I1_Part_1.pdf converted!\nBxl_1850_Tome_I1_Part_4.pdf converted!\nBxl_1850_Tome_I1_Part_3.pdf converted!\nBxl_1850_Tome_I1_Part_2.pdf converted!\nBxl_1850_Tome_I1_Part_1.pdf converted!\n"
    }
   ],
   "source": [
    "for pdf in pdfs:\n",
    "    command = [\n",
    "        'pdftotext',\n",
    "        f'{pdf_path}/{pdf}',\n",
    "        f'{txt_path}/{pdf[:-3]}txt'\n",
    "    ]\n",
    "    subprocess.run(command, capture_output=True)\n",
    "    print(f\"{pdf} converted!\")\n",
    "    "
   ]
  },
  {
   "source": [
    "## Consolider tous les fichiers en un (Bash)"
   ],
   "cell_type": "markdown",
   "metadata": {}
  },
  {
   "cell_type": "code",
   "execution_count": 32,
   "metadata": {
    "tags": []
   },
   "outputs": [],
   "source": [
    "!cat ../module1/data/txt/*.txt > ../module1/data/all.txt"
   ]
  },
  {
   "source": [
    "## Compter le nombre de mots"
   ],
   "cell_type": "markdown",
   "metadata": {}
  },
  {
   "cell_type": "code",
   "execution_count": 34,
   "metadata": {
    "tags": []
   },
   "outputs": [
    {
     "output_type": "stream",
     "name": "stdout",
     "text": "   39050 1391469 6254993 ../module1/data/all.txt\n"
    }
   ],
   "source": [
    "!wc ../module1/data/all.txt"
   ]
  }
 ]
}