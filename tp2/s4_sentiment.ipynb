get_sentiment("Si vous proposez des bases qui apparaissent plus raisonnables, nous serons les premiers à les admettre.")

get_sentiment("La première proposition du Collège a été de désapprouver la dépense — d'ailleurs minime, mais il s'agit d'un principe — engagée par la Commission sans l'autorisation du Conseil communal.")

get_sentiment("Or tout le monde croit que c'est nous qui avons ce devoir et il n'en est rien, puisqu'on ne nous consulte même pas.")

get_sentiment("Nous les attendons, mais ne croyez pas que les services de la Ville de Bruxelles soient restés inactifs.")

get_sentiment("L'argument du Collège disant que l'exploitation des taxis bruxellois n'a jamais soulevé de critiques sérieuses de la part du public, n'a aucune valeur, pour la bonne raison que les réclamations de la clientèle des taxis de la Ville vont directement à l'administration de la Bruxelloise d'Auto-transports et cela va de soi qu'elle n'y étonne aucune publicité.")

get_sentiment("La Bruxelloise d'Auto-transports n'oppose aucun argument à l'égard du matériel des faubourgs, plus neuf et entretenu avec plus de soin.")

get_sentiment("Si Haren n'avait pas été annexé, il est probable que les rues seraient encore dans l'état où elles se trouvaient au moment de l'annexion.")

get_sentiment("Je vous en prie, Messieurs, avançons !")

get_sentiment("Je constate que le Collège ne fait qu'augmenter ces ventes.")

get_sentiment("L'accès du sous-sol du pavillon nord des Halles Centrales est formellement interdit au public.")

