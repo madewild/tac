# Charger le texte
n=900000
text = open("../data/txt/Bxl_1950_Tome_I_Part_1.txt" and
"../data/txt/Bxl_1950_Tome_I_Part_2.txt" and
"../data/txt/Bxl_1950_Tome_I_Part_3.txt" and
"../data/txt/Bxl_1950_Tome_I_Part_4.txt" and
"../data/txt/Bxl_1950_Tome_I_Part_5.txt" and
"../data/txt/Bxl_1950_Tome_I_Part_6.txt" and
"../data/txt/Bxl_1950_Tome_I_Part_7.txt" and
"../data/txt/Bxl_1950_Tome_I_Part_8.txt" and
"../data/txt/Bxl_1950_Tome_II_Part_1.txt" and
"../data/txt/Bxl_1950_Tome_II_Part_2.txt" and
"../data/txt/Bxl_1950_Tome_II_Part_3.txt" and
"../data/txt/Bxl_1950_Tome_II_Part_4.txt" and
"../data/txt/Bxl_1950_Tome_II_Part_5.txt" and
"../data/txt/Bxl_1950_Tome_II_Part_6.txt" and
"../data/txt/Bxl_1950_Tome_II_Part_7.txt" and
"../data/txt/Bxl_1950_Tome_II_Part_8.txt" and
"../data/txt/Bxl_1950_Tome_II_Part_9.txt" and
"../data/txt/Bxl_1950_Tome_II_Part_10.txt" and
"../data/txt/Bxl_1950_Tome_III_Part_1.txt" and
"../data/txt/Bxl_1950_Tome_III_Part_2.txt" and
"../data/txt/Bxl_1950_Tome_III_Part_3.txt" and
"../data/txt/Bxl_1950_Tome_III_Part_4.txt" and
"../data/txt/Bxl_1950_Tome_III_Part_5.txt" and
"../data/txt/Bxl_1950_Tome_III_Part_6.txt" and
"../data/txt/Bxl_1950_Tome_III_Part_7.txt", encoding='utf-8').read()[:n]